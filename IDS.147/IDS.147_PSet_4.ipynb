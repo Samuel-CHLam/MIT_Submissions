{
 "cells": [
  {
   "cell_type": "markdown",
   "metadata": {},
   "source": [
    "15.077/IDS.147 Problem Set 4 (Python Version) <br>\n",
    "**Name:** Chun-Hei Lam. **ID:** 928931321 <br>\n",
    "**Declaration:** I pledge that the work submitted for this coursework is my own unassisted work unless stated otherwise. <br>\n",
    "**Acknowledgement to:** Harry Yu"
   ]
  },
  {
   "cell_type": "code",
   "execution_count": 93,
   "metadata": {},
   "outputs": [],
   "source": [
    "import numpy as np\n",
    "from scipy import stats\n",
    "import pandas as pd\n",
    "import matplotlib.pyplot as plt\n",
    "import matplotlib.cm as cm\n",
    "import seaborn as sns\n",
    "import statsmodels.api as sm\n",
    "import plotly.express as px\n",
    "import itertools"
   ]
  },
  {
   "cell_type": "markdown",
   "metadata": {},
   "source": [
    "# Rice 12.29 Semiconductor"
   ]
  },
  {
   "cell_type": "markdown",
   "metadata": {},
   "source": [
    "The performance of a semiconductor depends upon the thickness of a layer of silicon dioxide. In an experiment (Czitrom and Reece, 1997), layer thicknesses were measured at three furnace locations for three types of wafers (virgin wafers, recycled in-house wafers, and recycled wafers from an external source). The data are contained in the file `waferlayers`."
   ]
  },
  {
   "cell_type": "code",
   "execution_count": 20,
   "metadata": {},
   "outputs": [],
   "source": [
    "Waferlayers = pd.read_csv(\"waferlayers.txt\", quotechar=\"'\")\n",
    "Waferlayers = Waferlayers.rename(columns={\"Wafer Type\": \"WaferType\"})"
   ]
  },
  {
   "cell_type": "markdown",
   "metadata": {},
   "source": [
    "Conduct a two-way analysis of variance and test for significance of main effects and interactions."
   ]
  },
  {
   "cell_type": "markdown",
   "metadata": {},
   "source": [
    "*Solution: We first fit the ANOVA model.*"
   ]
  },
  {
   "cell_type": "code",
   "execution_count": 23,
   "metadata": {},
   "outputs": [],
   "source": [
    "model = sm.formula.ols('Thickness ~ C(Furnace) + C(WaferType) + C(Furnace):C(WaferType)', data=Waferlayers).fit()"
   ]
  },
  {
   "cell_type": "markdown",
   "metadata": {},
   "source": [
    "*We then look at the estimated parameters:*"
   ]
  },
  {
   "cell_type": "code",
   "execution_count": 29,
   "metadata": {},
   "outputs": [
    {
     "data": {
      "text/plain": [
       "Intercept                                   91.966667\n",
       "C(Furnace)[T.2]                             -3.333333\n",
       "C(Furnace)[T.3]                             -1.600000\n",
       "C(WaferType)[T.In-House]                    -2.033333\n",
       "C(WaferType)[T.Virgin]                      -1.900000\n",
       "C(Furnace)[T.2]:C(WaferType)[T.In-House]     4.633333\n",
       "C(Furnace)[T.3]:C(WaferType)[T.In-House]     2.200000\n",
       "C(Furnace)[T.2]:C(WaferType)[T.Virgin]       3.333333\n",
       "C(Furnace)[T.3]:C(WaferType)[T.Virgin]      -0.166667\n",
       "dtype: float64"
      ]
     },
     "execution_count": 29,
     "metadata": {},
     "output_type": "execute_result"
    }
   ],
   "source": [
    "model.params"
   ]
  },
  {
   "cell_type": "markdown",
   "metadata": {},
   "source": [
    "*Note: The base case is `Furnace = 1, WaferType = External`. The coefficient `C(Furnace)[T.2]` refers to effect of `Furnace = 2`, while the coefficient `C(Furnace)[T.3]:C(WaferType)[T.Virgin]` refers to joint effect of `Furnace = 3` and `WaferType = 'Virgin'`, so on and so forth.*"
   ]
  },
  {
   "cell_type": "markdown",
   "metadata": {},
   "source": [
    "*We then perform F-test for main effects and interactions.*"
   ]
  },
  {
   "cell_type": "code",
   "execution_count": 24,
   "metadata": {},
   "outputs": [
    {
     "data": {
      "text/html": [
       "<div>\n",
       "<style scoped>\n",
       "    .dataframe tbody tr th:only-of-type {\n",
       "        vertical-align: middle;\n",
       "    }\n",
       "\n",
       "    .dataframe tbody tr th {\n",
       "        vertical-align: top;\n",
       "    }\n",
       "\n",
       "    .dataframe thead th {\n",
       "        text-align: right;\n",
       "    }\n",
       "</style>\n",
       "<table border=\"1\" class=\"dataframe\">\n",
       "  <thead>\n",
       "    <tr style=\"text-align: right;\">\n",
       "      <th></th>\n",
       "      <th>sum_sq</th>\n",
       "      <th>df</th>\n",
       "      <th>F</th>\n",
       "      <th>PR(&gt;F)</th>\n",
       "    </tr>\n",
       "  </thead>\n",
       "  <tbody>\n",
       "    <tr>\n",
       "      <th>C(Furnace)</th>\n",
       "      <td>4.108889</td>\n",
       "      <td>2.0</td>\n",
       "      <td>1.446038</td>\n",
       "      <td>0.261588</td>\n",
       "    </tr>\n",
       "    <tr>\n",
       "      <th>C(WaferType)</th>\n",
       "      <td>5.875556</td>\n",
       "      <td>2.0</td>\n",
       "      <td>2.067779</td>\n",
       "      <td>0.155467</td>\n",
       "    </tr>\n",
       "    <tr>\n",
       "      <th>C(Furnace):C(WaferType)</th>\n",
       "      <td>21.348889</td>\n",
       "      <td>4.0</td>\n",
       "      <td>3.756648</td>\n",
       "      <td>0.021618</td>\n",
       "    </tr>\n",
       "    <tr>\n",
       "      <th>Residual</th>\n",
       "      <td>25.573333</td>\n",
       "      <td>18.0</td>\n",
       "      <td>NaN</td>\n",
       "      <td>NaN</td>\n",
       "    </tr>\n",
       "  </tbody>\n",
       "</table>\n",
       "</div>"
      ],
      "text/plain": [
       "                            sum_sq    df         F    PR(>F)\n",
       "C(Furnace)                4.108889   2.0  1.446038  0.261588\n",
       "C(WaferType)              5.875556   2.0  2.067779  0.155467\n",
       "C(Furnace):C(WaferType)  21.348889   4.0  3.756648  0.021618\n",
       "Residual                 25.573333  18.0       NaN       NaN"
      ]
     },
     "execution_count": 24,
     "metadata": {},
     "output_type": "execute_result"
    }
   ],
   "source": [
    "sm.stats.anova_lm(model, typ=2)"
   ]
  },
  {
   "cell_type": "markdown",
   "metadata": {},
   "source": [
    "*If we use $\\alpha = 0.05$, then we have the following*\n",
    "\n",
    "|$H_0$|$H_1$|Result|\n",
    "|:-|:-|:-|\n",
    "|`Furnance` has no effect.|`Furnance` has effect.|Insufficient evidence to reject $H_0$.|\n",
    "|`WaferType` has no effect.|`WaferType` has effect.|Insufficient evidence to reject $H_0$.|\n",
    "|Interaction of `Furnance` and `WaferType` has no effect.|Interaction of `Furnance` and `WaferType` has effect.|Sufficient evidence to reject $H_0$.|\n",
    "\n",
    "Only interaction of `Furnance` and `WaferType` has significant effect."
   ]
  },
  {
   "cell_type": "markdown",
   "metadata": {},
   "source": [
    "Construct a graph such as that shown in Figure 12.3 of textbook. Does the comparison of layer thicknesses depend on furnace location?"
   ]
  },
  {
   "cell_type": "markdown",
   "metadata": {},
   "source": [
    "*Solution: We plot `Thickness` vs. `Furnace`.*"
   ]
  },
  {
   "cell_type": "code",
   "execution_count": 44,
   "metadata": {},
   "outputs": [
    {
     "data": {
      "image/png": "[encoded data removed]",
      "text/plain": [
       "<Figure size 432x288 with 1 Axes>"
      ]
     },
     "metadata": {
      "needs_background": "light"
     },
     "output_type": "display_data"
    }
   ],
   "source": [
    "from statsmodels.graphics.factorplots import interaction_plot\n",
    "fig = interaction_plot(Waferlayers.Furnace, Waferlayers.WaferType, Waferlayers.Thickness, \n",
    "                       colors=['red','blue','green'], markers=['D','^','o'], ms=8)"
   ]
  },
  {
   "cell_type": "markdown",
   "metadata": {},
   "source": [
    "*As we can see the line segments are not parallel to each other. If average thickness depends on solely `Furnace` then we expect the line segments to be not horizontal and parallel to each other. The line segments are indeed not horizontal, but are not parallel to each other as well. Therefore there are interaction between `Furnace` and `WaferType`, and the layer thickness depends more on the interaction.*"
   ]
  },
  {
   "cell_type": "markdown",
   "metadata": {},
   "source": [
    "# Adhesive Process\n",
    "An experiment was conducted using an unreplicated $2^4$ factorial design to determine the effects of the amount of glue `x1`, predrying temperature `x2`, tunnel temperature `x3`, and pressure `x4` on the adhesiveforce obtained in an adhesive process."
   ]
  },
  {
   "cell_type": "code",
   "execution_count": 4,
   "metadata": {},
   "outputs": [],
   "source": [
    "Adhesive = pd.read_csv(\"Adhesive.csv\")"
   ]
  },
  {
   "cell_type": "markdown",
   "metadata": {},
   "source": [
    "**Part (a):** Estimate all the main effects and interactions."
   ]
  },
  {
   "cell_type": "markdown",
   "metadata": {},
   "source": [
    "*Solution: the following tabulates all effects and interactions of variables.*"
   ]
  },
  {
   "cell_type": "code",
   "execution_count": 5,
   "metadata": {},
   "outputs": [
    {
     "data": {
      "text/plain": [
       "Intercept      4.301875\n",
       "x1             0.311875\n",
       "x2             0.543125\n",
       "x3             0.345625\n",
       "x4            -0.096875\n",
       "x1:x2         -0.004375\n",
       "x1:x3          0.160625\n",
       "x1:x4         -0.049375\n",
       "x2:x3          0.149375\n",
       "x2:x4          0.374375\n",
       "x3:x4          0.014375\n",
       "x1:x2:x3      -0.138125\n",
       "x1:x2:x4      -0.010625\n",
       "x1:x3:x4       0.196875\n",
       "x2:x3:x4      -0.021875\n",
       "x1:x2:x3:x4   -0.016875\n",
       "dtype: float64"
      ]
     },
     "execution_count": 5,
     "metadata": {},
     "output_type": "execute_result"
    }
   ],
   "source": [
    "model = sm.formula.ols('y ~ (x1+x2+x3+x4)**4', data=Adhesive).fit()\n",
    "model.params"
   ]
  },
  {
   "cell_type": "markdown",
   "metadata": {},
   "source": [
    "**Part (b):** Plot the estimated effects on a normal probability plot."
   ]
  },
  {
   "cell_type": "code",
   "execution_count": 6,
   "metadata": {},
   "outputs": [],
   "source": [
    "fit_val = model.params.sort_values().values[:len(model.params)-1]\n",
    "name = model.params.sort_values()._index[:len(model.params)-1]"
   ]
  },
  {
   "cell_type": "code",
   "execution_count": 7,
   "metadata": {},
   "outputs": [],
   "source": [
    "mu, std = stats.norm.fit(fit_val, floc=0)\n",
    "osm, osr = stats.probplot(fit_val, dist=stats.norm(loc=0, scale=std))"
   ]
  },
  {
   "cell_type": "code",
   "execution_count": 51,
   "metadata": {},
   "outputs": [
    {
     "data": {
      "text/plain": [
       "Text(0, 0.5, 'Sample Quantiles')"
      ]
     },
     "execution_count": 51,
     "metadata": {},
     "output_type": "execute_result"
    },
    {
     "data": {
      "image/png": "[encoded data removed]",
      "text/plain": [
       "<Figure size 576x432 with 1 Axes>"
      ]
     },
     "metadata": {
      "needs_background": "light"
     },
     "output_type": "display_data"
    }
   ],
   "source": [
    "colors = cm.rainbow(np.linspace(0, 1, len(fit_val)))\n",
    "xvec = np.linspace(-0.4, 0.6, 2)\n",
    "\n",
    "fig, ax = plt.subplots(nrows = 1, ncols = 1, figsize=(8,6))\n",
    "# ax.scatter(osm[0], osm[1])\n",
    "\n",
    "for x,y,c,txt in zip(osm[0], osm[1], colors, name):\n",
    "    ax.scatter(x, y, color=c, label=txt)\n",
    "    ax.plot(xvec, xvec)\n",
    "    # ax.annotate(txt, (x,y))\n",
    "\n",
    "ax.plot(xvec,xvec,color=\"red\")\n",
    "ax.legend(bbox_to_anchor=(1.05, 1.01), loc='upper left')\n",
    "ax.set_xlabel(\"Theoretical Quantiles\")\n",
    "ax.set_ylabel(\"Sample Quantiles\")"
   ]
  },
  {
   "cell_type": "markdown",
   "metadata": {},
   "source": [
    "**Part (c):** Interpret your results."
   ]
  },
  {
   "cell_type": "markdown",
   "metadata": {},
   "source": [
    "*Solution: As we can see from the figure, most of the points are far from the line `x=x`. The points there are closed to `x=x` corresponds to the factors which are not significant, which are `x1:x2` and `x3:x4` in our case.*"
   ]
  },
  {
   "cell_type": "markdown",
   "metadata": {},
   "source": [
    "# Plutonium\n",
    "A $2^{8-4}_{\\text{IV}}$ fractional factorial design was run to identify sources of plutonium contamination in the radioactivity material analysis of dried shellfish at the National Institute of Standards and Technology (NIST). The data are in the table below. No contamination occurred at runs 1,4, and 9."
   ]
  },
  {
   "cell_type": "code",
   "execution_count": 2,
   "metadata": {},
   "outputs": [],
   "source": [
    "Plutonium = pd.read_csv(\"Plutonium.csv\")"
   ]
  },
  {
   "cell_type": "markdown",
   "metadata": {},
   "source": [
    "The factors and levels are shown in the following table.\n",
    "\n",
    "| Factor | Code | -1 | +1 |\n",
    "| :- | :- | :- | :- |\n",
    "| Glassware | `x1` |Distilled Water | Soap, acid, stored |\n",
    "| Reagent | `x2` | New | Old |\n",
    "| Sample Prep | `x3` | Co-precipitation | Electrodeposition |\n",
    "| Tracer | `x4` | Stock | Fresh |\n",
    "| Dissolution | `x5` | Without | With |\n",
    "| Hood | `x6` | B | A |\n",
    "| Chemistry | `x7` | Without | With |\n",
    "| Ashing | `x8` | Without | With |"
   ]
  },
  {
   "cell_type": "markdown",
   "metadata": {},
   "source": [
    "**Part (a):** Write down the alias relationships."
   ]
  },
  {
   "cell_type": "markdown",
   "metadata": {},
   "source": [
    "*Solution:* We first identify the 4 design generators in our experiment. From observation we have the generators: `x5=x2*x3*x4`, `x6=x1*x3*x4`, `x7=x1*x2*x3` and `x8=x1*x2*x4`. We may check by looking at the columns."
   ]
  },
  {
   "cell_type": "code",
   "execution_count": 3,
   "metadata": {},
   "outputs": [
    {
     "name": "stdout",
     "output_type": "stream",
     "text": [
      "(True, True, True, True)\n"
     ]
    }
   ],
   "source": [
    "print((all(Plutonium[\"x5\"] == Plutonium[\"x2\"] * Plutonium[\"x3\"] * Plutonium[\"x4\"]), \n",
    "    all(Plutonium[\"x6\"] == Plutonium[\"x1\"] * Plutonium[\"x3\"] * Plutonium[\"x4\"]),\n",
    "    all(Plutonium[\"x7\"] == Plutonium[\"x1\"] * Plutonium[\"x2\"] * Plutonium[\"x3\"]),\n",
    "    all(Plutonium[\"x8\"] == Plutonium[\"x1\"] * Plutonium[\"x2\"] * Plutonium[\"x4\"])))"
   ]
  },
  {
   "cell_type": "markdown",
   "metadata": {},
   "source": [
    "We then write the generators in standard form: `I = x2*x3*x4*x5 = x1*x3*x4*x6 = x1*x2*x3*x7 = x1*x2*x4*x8`."
   ]
  },
  {
   "cell_type": "markdown",
   "metadata": {},
   "source": [
    "Finally, we may multiply the generators by other effects to give a complete list of aliasing effects."
   ]
  },
  {
   "cell_type": "code",
   "execution_count": 140,
   "metadata": {},
   "outputs": [],
   "source": [
    "design = Plutonium.drop(columns=[\"Run\",\"y\"])\n",
    "design2 = design.copy() * -1\n",
    "design2.iloc[:,-4:] = 1\n",
    "design2_copy = np.array(list(itertools.repeat(design2.values, 16))).reshape((-1,8))\n",
    "ortho = pd.DataFrame(design2_copy, columns=design2.columns, \n",
    "                     index=pd.MultiIndex.from_product([design.index, np.arange(16)], names=[\"X\",\"Y\"]))"
   ]
  },
  {
   "cell_type": "code",
   "execution_count": 141,
   "metadata": {},
   "outputs": [],
   "source": [
    "prod = design.mul(ortho, level=\"X\")"
   ]
  },
  {
   "cell_type": "code",
   "execution_count": 160,
   "metadata": {},
   "outputs": [
    {
     "name": "stdout",
     "output_type": "stream",
     "text": [
      "(I)=(1678)=(2578)=(1256)=(3567)=(1358)=(2368)=(1237)=(4568)=(1457)=(2467)=(1248)=(3478)=(1346)=(2345)=(12345678)\n",
      "(1)=(678)=(12578)=(256)=(13567)=(358)=(12368)=(237)=(14568)=(457)=(12467)=(248)=(13478)=(346)=(12345)=(2345678)\n",
      "(2)=(12678)=(578)=(156)=(23567)=(12358)=(368)=(137)=(24568)=(12457)=(467)=(148)=(23478)=(12346)=(345)=(1345678)\n",
      "(12)=(2678)=(1578)=(56)=(123567)=(2358)=(1368)=(37)=(124568)=(2457)=(1467)=(48)=(123478)=(2346)=(1345)=(345678)\n",
      "(3)=(13678)=(23578)=(12356)=(567)=(158)=(268)=(127)=(34568)=(13457)=(23467)=(12348)=(478)=(146)=(245)=(1245678)\n",
      "(13)=(3678)=(123578)=(2356)=(1567)=(58)=(1268)=(27)=(134568)=(3457)=(123467)=(2348)=(1478)=(46)=(1245)=(245678)\n",
      "(23)=(123678)=(3578)=(1356)=(2567)=(1258)=(68)=(17)=(234568)=(123457)=(3467)=(1348)=(2478)=(1246)=(45)=(145678)\n",
      "(123)=(23678)=(13578)=(356)=(12567)=(258)=(168)=(7)=(1234568)=(23457)=(13467)=(348)=(12478)=(246)=(145)=(45678)\n",
      "(4)=(14678)=(24578)=(12456)=(34567)=(13458)=(23468)=(12347)=(568)=(157)=(267)=(128)=(378)=(136)=(235)=(1235678)\n",
      "(14)=(4678)=(124578)=(2456)=(134567)=(3458)=(123468)=(2347)=(1568)=(57)=(1267)=(28)=(1378)=(36)=(1235)=(235678)\n",
      "(24)=(124678)=(4578)=(1456)=(234567)=(123458)=(3468)=(1347)=(2568)=(1257)=(67)=(18)=(2378)=(1236)=(35)=(135678)\n",
      "(124)=(24678)=(14578)=(456)=(1234567)=(23458)=(13468)=(347)=(12568)=(257)=(167)=(8)=(12378)=(236)=(135)=(35678)\n",
      "(34)=(134678)=(234578)=(123456)=(4567)=(1458)=(2468)=(1247)=(3568)=(1357)=(2367)=(1238)=(78)=(16)=(25)=(125678)\n",
      "(134)=(34678)=(1234578)=(23456)=(14567)=(458)=(12468)=(247)=(13568)=(357)=(12367)=(238)=(178)=(6)=(125)=(25678)\n",
      "(234)=(1234678)=(34578)=(13456)=(24567)=(12458)=(468)=(147)=(23568)=(12357)=(367)=(138)=(278)=(126)=(5)=(15678)\n",
      "(1234)=(234678)=(134578)=(3456)=(124567)=(2458)=(1468)=(47)=(123568)=(2357)=(1367)=(38)=(1278)=(26)=(15)=(5678)\n"
     ]
    }
   ],
   "source": [
    "equiv_class = prod.apply(lambda row: f\"({((row == 1)*row.index.str[1]).sum()})\", axis = 1)\n",
    "equiv_class.iloc[0] = \"(I)\"\n",
    "equiv_class = equiv_class.groupby(\"Y\").apply(\"=\".join)\n",
    "print(\"\\n\".join(equiv_class))"
   ]
  },
  {
   "cell_type": "markdown",
   "metadata": {},
   "source": [
    "**Part (b):** Estimate the main effects."
   ]
  },
  {
   "cell_type": "code",
   "execution_count": 9,
   "metadata": {},
   "outputs": [
    {
     "data": {
      "text/plain": [
       "Intercept    0.778556\n",
       "x1           0.724856\n",
       "x2          -0.431181\n",
       "x3           0.301694\n",
       "x4           0.325931\n",
       "x5          -0.402619\n",
       "x6           0.693194\n",
       "x7           0.029556\n",
       "x8          -0.006431\n",
       "x1:x2       -0.435406\n",
       "x1:x3        0.290569\n",
       "x1:x4        0.309306\n",
       "x1:x5       -0.378294\n",
       "x1:x6        0.685894\n",
       "x1:x7       -0.008794\n",
       "x1:x8       -0.006831\n",
       "dtype: float64"
      ]
     },
     "execution_count": 9,
     "metadata": {},
     "output_type": "execute_result"
    }
   ],
   "source": [
    "model = sm.formula.ols('y ~ x1+x2+x3+x4+x5+x6+x7+x8+x1*x2+x1*x3+x1*x4+x1*x5+x1*x6+x1*x7+x1*x8', data=Plutonium).fit()\n",
    "model.params"
   ]
  },
  {
   "cell_type": "markdown",
   "metadata": {},
   "source": [
    "**Part (c):** Prepare a normal probability plot for the effects and interpret the results."
   ]
  },
  {
   "cell_type": "code",
   "execution_count": 26,
   "metadata": {},
   "outputs": [
    {
     "data": {
      "text/plain": [
       "Text(0, 0.5, 'Sample Quantiles')"
      ]
     },
     "execution_count": 26,
     "metadata": {},
     "output_type": "execute_result"
    },
    {
     "data": {
      "image/png": "[encoded data removed]",
      "text/plain": [
       "<Figure size 576x432 with 1 Axes>"
      ]
     },
     "metadata": {
      "needs_background": "light"
     },
     "output_type": "display_data"
    }
   ],
   "source": [
    "fit_val = model.params.sort_values().values[:len(model.params)-1]\n",
    "name = model.params.sort_values()._index[:len(model.params)-1]\n",
    "mu, std = stats.norm.fit(fit_val, floc=0)\n",
    "osm, osr = stats.probplot(fit_val, dist=stats.norm(loc=0, scale=std))\n",
    "colors = cm.rainbow(np.linspace(0, 1, len(fit_val)))\n",
    "xvec = np.linspace(-0.8, 0.8, 2)\n",
    "\n",
    "fig, ax = plt.subplots(nrows = 1, ncols = 1, figsize=(8,6))\n",
    "# ax.scatter(osm[0], osm[1])\n",
    "\n",
    "for x,y,c,txt in zip(osm[0], osm[1], colors, name):\n",
    "    ax.scatter(x, y, color=c, label=txt)\n",
    "    # ax.annotate(txt, (x,y))\n",
    "\n",
    "ax.plot(xvec,xvec,color=\"red\")\n",
    "ax.legend(bbox_to_anchor=(1.05, 1.01), loc='upper left')\n",
    "ax.set_xlabel(\"Theoretical Quantiles\")\n",
    "ax.set_ylabel(\"Sample Quantiles\")"
   ]
  },
  {
   "cell_type": "markdown",
   "metadata": {},
   "source": [
    "*Comment: The outliers seems to be `x1:x2`, `x1:x7`, `x1:x3`, `x1:x6`. One thing worth noticing is that the data $y$ itself is not normal - it is dominated by some outliers above 1. That might be the reason why the estimated effects are \"grouped\" together. To conclude, we should have applied variance-stablising transformations to the response before analysing our data...*"
   ]
  },
  {
   "cell_type": "code",
   "execution_count": 174,
   "metadata": {},
   "outputs": [
    {
     "data": {
      "text/plain": [
       "Text(0, 0.5, 'Frequencies')"
      ]
     },
     "execution_count": 174,
     "metadata": {},
     "output_type": "execute_result"
    },
    {
     "data": {
      "image/png": "[encoded data removed]",
      "text/plain": [
       "<Figure size 576x432 with 1 Axes>"
      ]
     },
     "metadata": {
      "needs_background": "light"
     },
     "output_type": "display_data"
    }
   ],
   "source": [
    "fig, ax = plt.subplots(nrows = 1, ncols = 1, figsize=(8,6))\n",
    "Plutonium[\"y\"].hist(bins=16, grid=False, ax=ax)\n",
    "ax.set_xlabel(\"Responses\")\n",
    "ax.set_ylabel(\"Frequencies\")"
   ]
  },
  {
   "cell_type": "markdown",
   "metadata": {},
   "source": [
    "# Inorganic Impurities"
   ]
  },
  {
   "cell_type": "markdown",
   "metadata": {},
   "source": [
    "This dataset is from an experiment to investigate inorganic impurities (ash) in paper. Two variables, temperature $T$ in degree Celsius and time $t$ in hours, were studied. The coded predictor variables shown in the following table are\n",
    "\\begin{equation}\n",
    "x_1 = \\frac{T-775}{115}, \\quad x_2 = \\frac{t-3}{1.5}\n",
    "\\end{equation}\n",
    "and the response $y$ is impurity percentage times $10^3$."
   ]
  },
  {
   "cell_type": "code",
   "execution_count": 59,
   "metadata": {},
   "outputs": [],
   "source": [
    "Impurities = pd.read_csv(\"Impurities.csv\")"
   ]
  },
  {
   "cell_type": "code",
   "execution_count": 60,
   "metadata": {},
   "outputs": [
    {
     "data": {
      "text/html": [
       "<div>\n",
       "<style scoped>\n",
       "    .dataframe tbody tr th:only-of-type {\n",
       "        vertical-align: middle;\n",
       "    }\n",
       "\n",
       "    .dataframe tbody tr th {\n",
       "        vertical-align: top;\n",
       "    }\n",
       "\n",
       "    .dataframe thead th {\n",
       "        text-align: right;\n",
       "    }\n",
       "</style>\n",
       "<table border=\"1\" class=\"dataframe\">\n",
       "  <thead>\n",
       "    <tr style=\"text-align: right;\">\n",
       "      <th></th>\n",
       "      <th>x1</th>\n",
       "      <th>x2</th>\n",
       "      <th>y</th>\n",
       "    </tr>\n",
       "  </thead>\n",
       "  <tbody>\n",
       "    <tr>\n",
       "      <th>0</th>\n",
       "      <td>-1.0</td>\n",
       "      <td>-1.0</td>\n",
       "      <td>211</td>\n",
       "    </tr>\n",
       "    <tr>\n",
       "      <th>1</th>\n",
       "      <td>1.0</td>\n",
       "      <td>-1.0</td>\n",
       "      <td>92</td>\n",
       "    </tr>\n",
       "    <tr>\n",
       "      <th>2</th>\n",
       "      <td>-1.0</td>\n",
       "      <td>1.0</td>\n",
       "      <td>216</td>\n",
       "    </tr>\n",
       "    <tr>\n",
       "      <th>3</th>\n",
       "      <td>1.0</td>\n",
       "      <td>1.0</td>\n",
       "      <td>99</td>\n",
       "    </tr>\n",
       "    <tr>\n",
       "      <th>4</th>\n",
       "      <td>-1.5</td>\n",
       "      <td>0.0</td>\n",
       "      <td>222</td>\n",
       "    </tr>\n",
       "    <tr>\n",
       "      <th>5</th>\n",
       "      <td>1.5</td>\n",
       "      <td>0.0</td>\n",
       "      <td>48</td>\n",
       "    </tr>\n",
       "    <tr>\n",
       "      <th>6</th>\n",
       "      <td>0.0</td>\n",
       "      <td>-1.5</td>\n",
       "      <td>168</td>\n",
       "    </tr>\n",
       "    <tr>\n",
       "      <th>7</th>\n",
       "      <td>0.0</td>\n",
       "      <td>1.5</td>\n",
       "      <td>179</td>\n",
       "    </tr>\n",
       "    <tr>\n",
       "      <th>8</th>\n",
       "      <td>0.0</td>\n",
       "      <td>0.0</td>\n",
       "      <td>122</td>\n",
       "    </tr>\n",
       "    <tr>\n",
       "      <th>9</th>\n",
       "      <td>0.0</td>\n",
       "      <td>0.0</td>\n",
       "      <td>175</td>\n",
       "    </tr>\n",
       "    <tr>\n",
       "      <th>10</th>\n",
       "      <td>0.0</td>\n",
       "      <td>0.0</td>\n",
       "      <td>157</td>\n",
       "    </tr>\n",
       "    <tr>\n",
       "      <th>11</th>\n",
       "      <td>0.0</td>\n",
       "      <td>0.0</td>\n",
       "      <td>146</td>\n",
       "    </tr>\n",
       "  </tbody>\n",
       "</table>\n",
       "</div>"
      ],
      "text/plain": [
       "     x1   x2    y\n",
       "0  -1.0 -1.0  211\n",
       "1   1.0 -1.0   92\n",
       "2  -1.0  1.0  216\n",
       "3   1.0  1.0   99\n",
       "4  -1.5  0.0  222\n",
       "5   1.5  0.0   48\n",
       "6   0.0 -1.5  168\n",
       "7   0.0  1.5  179\n",
       "8   0.0  0.0  122\n",
       "9   0.0  0.0  175\n",
       "10  0.0  0.0  157\n",
       "11  0.0  0.0  146"
      ]
     },
     "execution_count": 60,
     "metadata": {},
     "output_type": "execute_result"
    }
   ],
   "source": [
    "Impurities"
   ]
  },
  {
   "cell_type": "markdown",
   "metadata": {},
   "source": [
    "**Part (a)** What type of design has been used in the study? Can the design be rotated."
   ]
  },
  {
   "cell_type": "markdown",
   "metadata": {},
   "source": [
    "*Solution: this is a Box-Wilson Central Composite Design. The design cannot be rotated.*"
   ]
  },
  {
   "cell_type": "code",
   "execution_count": 72,
   "metadata": {},
   "outputs": [
    {
     "data": {
      "text/plain": [
       "<matplotlib.collections.PathCollection at 0x1b33859d288>"
      ]
     },
     "execution_count": 72,
     "metadata": {},
     "output_type": "execute_result"
    },
    {
     "data": {
      "image/png": "[encoded data removed]",
      "text/plain": [
       "<Figure size 432x288 with 1 Axes>"
      ]
     },
     "metadata": {
      "needs_background": "light"
     },
     "output_type": "display_data"
    }
   ],
   "source": [
    "plt.scatter(Impurities[\"x1\"], Impurities[\"x2\"])"
   ]
  },
  {
   "cell_type": "markdown",
   "metadata": {},
   "source": [
    "**Part (b)** Fit a quadratic model to the data. Is this model satisfactory?"
   ]
  },
  {
   "cell_type": "code",
   "execution_count": 61,
   "metadata": {},
   "outputs": [
    {
     "name": "stderr",
     "output_type": "stream",
     "text": [
      "C:\\Users\\godin\\anaconda3\\lib\\site-packages\\scipy\\stats\\stats.py:1604: UserWarning: kurtosistest only valid for n>=20 ... continuing anyway, n=12\n",
      "  \"anyway, n=%i\" % int(n))\n"
     ]
    },
    {
     "data": {
      "text/html": [
       "<table class=\"simpletable\">\n",
       "<caption>OLS Regression Results</caption>\n",
       "<tr>\n",
       "  <th>Dep. Variable:</th>            <td>y</td>        <th>  R-squared:         </th> <td>   0.906</td>\n",
       "</tr>\n",
       "<tr>\n",
       "  <th>Model:</th>                   <td>OLS</td>       <th>  Adj. R-squared:    </th> <td>   0.871</td>\n",
       "</tr>\n",
       "<tr>\n",
       "  <th>Method:</th>             <td>Least Squares</td>  <th>  F-statistic:       </th> <td>   25.83</td>\n",
       "</tr>\n",
       "<tr>\n",
       "  <th>Date:</th>             <td>Fri, 02 Apr 2021</td> <th>  Prob (F-statistic):</th> <td>0.000182</td>\n",
       "</tr>\n",
       "<tr>\n",
       "  <th>Time:</th>                 <td>01:12:40</td>     <th>  Log-Likelihood:    </th> <td> -50.177</td>\n",
       "</tr>\n",
       "<tr>\n",
       "  <th>No. Observations:</th>      <td>    12</td>      <th>  AIC:               </th> <td>   108.4</td>\n",
       "</tr>\n",
       "<tr>\n",
       "  <th>Df Residuals:</th>          <td>     8</td>      <th>  BIC:               </th> <td>   110.3</td>\n",
       "</tr>\n",
       "<tr>\n",
       "  <th>Df Model:</th>              <td>     3</td>      <th>                     </th>     <td> </td>   \n",
       "</tr>\n",
       "<tr>\n",
       "  <th>Covariance Type:</th>      <td>nonrobust</td>    <th>                     </th>     <td> </td>   \n",
       "</tr>\n",
       "</table>\n",
       "<table class=\"simpletable\">\n",
       "<tr>\n",
       "      <td></td>         <th>coef</th>     <th>std err</th>      <th>t</th>      <th>P>|t|</th>  <th>[0.025</th>    <th>0.975]</th>  \n",
       "</tr>\n",
       "<tr>\n",
       "  <th>Intercept</th> <td>  152.9167</td> <td>    5.600</td> <td>   27.307</td> <td> 0.000</td> <td>  140.003</td> <td>  165.830</td>\n",
       "</tr>\n",
       "<tr>\n",
       "  <th>x1</th>        <td>  -58.4706</td> <td>    6.654</td> <td>   -8.788</td> <td> 0.000</td> <td>  -73.814</td> <td>  -43.127</td>\n",
       "</tr>\n",
       "<tr>\n",
       "  <th>x2</th>        <td>    3.3529</td> <td>    6.654</td> <td>    0.504</td> <td> 0.628</td> <td>  -11.991</td> <td>   18.696</td>\n",
       "</tr>\n",
       "<tr>\n",
       "  <th>x1:x2</th>     <td>    0.5000</td> <td>    9.699</td> <td>    0.052</td> <td> 0.960</td> <td>  -21.867</td> <td>   22.867</td>\n",
       "</tr>\n",
       "</table>\n",
       "<table class=\"simpletable\">\n",
       "<tr>\n",
       "  <th>Omnibus:</th>       <td> 0.298</td> <th>  Durbin-Watson:     </th> <td>   2.567</td>\n",
       "</tr>\n",
       "<tr>\n",
       "  <th>Prob(Omnibus):</th> <td> 0.862</td> <th>  Jarque-Bera (JB):  </th> <td>   0.410</td>\n",
       "</tr>\n",
       "<tr>\n",
       "  <th>Skew:</th>          <td>-0.275</td> <th>  Prob(JB):          </th> <td>   0.815</td>\n",
       "</tr>\n",
       "<tr>\n",
       "  <th>Kurtosis:</th>      <td> 2.280</td> <th>  Cond. No.          </th> <td>    1.73</td>\n",
       "</tr>\n",
       "</table><br/><br/>Notes:<br/>[1] Standard Errors assume that the covariance matrix of the errors is correctly specified."
      ],
      "text/plain": [
       "<class 'statsmodels.iolib.summary.Summary'>\n",
       "\"\"\"\n",
       "                            OLS Regression Results                            \n",
       "==============================================================================\n",
       "Dep. Variable:                      y   R-squared:                       0.906\n",
       "Model:                            OLS   Adj. R-squared:                  0.871\n",
       "Method:                 Least Squares   F-statistic:                     25.83\n",
       "Date:                Fri, 02 Apr 2021   Prob (F-statistic):           0.000182\n",
       "Time:                        01:12:40   Log-Likelihood:                -50.177\n",
       "No. Observations:                  12   AIC:                             108.4\n",
       "Df Residuals:                       8   BIC:                             110.3\n",
       "Df Model:                           3                                         \n",
       "Covariance Type:            nonrobust                                         \n",
       "==============================================================================\n",
       "                 coef    std err          t      P>|t|      [0.025      0.975]\n",
       "------------------------------------------------------------------------------\n",
       "Intercept    152.9167      5.600     27.307      0.000     140.003     165.830\n",
       "x1           -58.4706      6.654     -8.788      0.000     -73.814     -43.127\n",
       "x2             3.3529      6.654      0.504      0.628     -11.991      18.696\n",
       "x1:x2          0.5000      9.699      0.052      0.960     -21.867      22.867\n",
       "==============================================================================\n",
       "Omnibus:                        0.298   Durbin-Watson:                   2.567\n",
       "Prob(Omnibus):                  0.862   Jarque-Bera (JB):                0.410\n",
       "Skew:                          -0.275   Prob(JB):                        0.815\n",
       "Kurtosis:                       2.280   Cond. No.                         1.73\n",
       "==============================================================================\n",
       "\n",
       "Notes:\n",
       "[1] Standard Errors assume that the covariance matrix of the errors is correctly specified.\n",
       "\"\"\""
      ]
     },
     "execution_count": 61,
     "metadata": {},
     "output_type": "execute_result"
    }
   ],
   "source": [
    "model = sm.formula.ols('y ~ x1+x2+x1**2+x2**2+x1*x2', data=Impurities).fit()\n",
    "model.summary()"
   ]
  },
  {
   "cell_type": "markdown",
   "metadata": {},
   "source": [
    "*I am not happy with the model, because the quadratic model is useless (look at the extremely high t values).*"
   ]
  },
  {
   "cell_type": "markdown",
   "metadata": {},
   "source": [
    "**Part (c)** If it is important to minimise the ash value, where would you run the process?"
   ]
  },
  {
   "cell_type": "markdown",
   "metadata": {},
   "source": [
    "*We would run the process at the place with highest temperature.*"
   ]
  },
  {
   "cell_type": "markdown",
   "metadata": {},
   "source": [
    "# Copper Manufacturing\n",
    "The copper content of a manufacturing process is measured three times per day and the results are reportedas parts per million.  The values for 25 days are given in the table below."
   ]
  },
  {
   "cell_type": "code",
   "execution_count": 64,
   "metadata": {},
   "outputs": [],
   "source": [
    "Copper = pd.read_csv(\"Copper.csv\")"
   ]
  },
  {
   "cell_type": "markdown",
   "metadata": {},
   "source": [
    "**Part (a)** Using all the data, find trial control limits for $\\bar{X}$ and $R$ charts, construct the chart, and plot the data. Is the process in statistical control."
   ]
  },
  {
   "cell_type": "markdown",
   "metadata": {},
   "source": [
    "*Solution: we first obtain the mean and range of each observation.*"
   ]
  },
  {
   "cell_type": "code",
   "execution_count": 177,
   "metadata": {},
   "outputs": [],
   "source": [
    "Copper[\"Omean\"] = Copper[[\"O1\",\"O2\",\"O3\"]].mean(axis=1)\n",
    "Copper[\"Range\"] = Copper[[\"O1\",\"O2\",\"O3\"]].max(axis=1) - Copper[[\"O1\",\"O2\",\"O3\"]].min(axis=1)"
   ]
  },
  {
   "cell_type": "markdown",
   "metadata": {},
   "source": [
    "*We then write a function which input vector of mean `mean_vec` and vector of ranges `range_vec` and return limits for $\\bar{X}$ and $R$ charts as well as actual control chart.*"
   ]
  },
  {
   "cell_type": "code",
   "execution_count": 186,
   "metadata": {},
   "outputs": [
    {
     "data": {
      "text/plain": [
       "3.0"
      ]
     },
     "execution_count": 186,
     "metadata": {},
     "output_type": "execute_result"
    }
   ],
   "source": [
    "np.array([1,2,3,4,5]).mean()"
   ]
  },
  {
   "cell_type": "code",
   "execution_count": 204,
   "metadata": {},
   "outputs": [],
   "source": [
    "def XbarRchart(mean_vec, range_vec, Xbar_plot=None, R_plot=None): # input array of mean and range\n",
    "    \n",
    "    # Grand Mean and Grand Range\n",
    "    grand_mean = mean_vec.mean(); mean_range = range_vec.mean()\n",
    "    \n",
    "    # Hard Code the multipliers for now\n",
    "    n = 3; A2 = 1.023; D3 = 0; D4 = 2.575;\n",
    "    \n",
    "    # Obtain the control limits in control charts.\n",
    "    Xbar_UCL = grand_mu + A2*mean_range; Xbar_LCL = grand_mu - A2*mean_range\n",
    "    R_UCL = D4*mean_range; R_LCL = D3*mean_range\n",
    "    \n",
    "    # Return Xbar plot.\n",
    "    if Xbar_plot is not None:\n",
    "        Xbar_plot.plot(mean_vec)\n",
    "        Xbar_plot.axhline(y=Xbar_UCL, color='r', linestyle='-')\n",
    "        Xbar_plot.axhline(y=Xbar_LCL, color='r', linestyle='-')\n",
    "        Xbar_plot.axhline(y=grand_mu, color='b', linestyle='-')\n",
    "        Xbar_plot.set_xlabel('Run')\n",
    "        Xbar_plot.set_ylabel('Mean of Observation')\n",
    "        Xbar_plot.set_title(f'Xbar Chart (mean = {np.round(grand_mean,3)}, limits = ({np.round(Xbar_LCL, 3)}, {np.round(Xbar_UCL, 3)}))')\n",
    "\n",
    "    # Return R plot.\n",
    "    if R_plot is not None:\n",
    "        R_plot.plot(range_vec)\n",
    "        R_plot.axhline(y=R_UCL, color='r', linestyle='-')\n",
    "        R_plot.axhline(y=R_LCL, color='r', linestyle='-')\n",
    "        R_plot.axhline(y=mean_range, color='b', linestyle='-')\n",
    "        R_plot.set_xlabel('Run')\n",
    "        R_plot.set_ylabel('Range of Observation')\n",
    "        R_plot.set_title(f'Xbar Chart (mean = {np.round(mean_range,3)}, limits = ({np.round(R_LCL, 3)}, {np.round(R_UCL, 3)})')\n",
    "    \n",
    "    result = dict()\n",
    "    result[\"grand_mean\"] = grand_mean\n",
    "    result[\"mean_range\"] = mean_range\n",
    "    result[\"Xbar_lim\"] = (Xbar_LCL, Xbar_UCL)\n",
    "    result[\"R_lim\"] = (R_LCL, R_UCL)\n",
    "    \n",
    "    return result"
   ]
  },
  {
   "cell_type": "code",
   "execution_count": 205,
   "metadata": {
    "scrolled": true
   },
   "outputs": [
    {
     "data": {
      "image/png": "[encoded data removed]",
      "text/plain": [
       "<Figure size 1008x360 with 2 Axes>"
      ]
     },
     "metadata": {
      "needs_background": "light"
     },
     "output_type": "display_data"
    }
   ],
   "source": [
    "fig, (ax1, ax2) = plt.subplots(nrows=1, ncols=2, figsize=(14,5))\n",
    "result = XbarRchart(Copper[\"Omean\"], Copper[\"Range\"], Xbar_plot=ax1, R_plot=ax2)"
   ]
  },
  {
   "cell_type": "markdown",
   "metadata": {},
   "source": [
    "*All the ranges in $R$ charts falls in between the control limits, so we can assume the process has constant variations. We can see that there are points in $\\bar{X}$ beyond the control limits, so the process is statistically out-of-control.*"
   ]
  },
  {
   "cell_type": "markdown",
   "metadata": {},
   "source": [
    "**Part (b)** If necessary, revise the control limits computed in part (a), assuming any samples that plot outside the control limits can be eliminated. Continue to eliminate points outside the control limits and revise, until all points plot between control limits."
   ]
  },
  {
   "cell_type": "markdown",
   "metadata": {},
   "source": [
    "*Solution: we repeatedly filter out the points and revise control limits. Here I do not use while loop since we should be able to make all points fall into control limit within two iterations.*"
   ]
  },
  {
   "cell_type": "code",
   "execution_count": 212,
   "metadata": {},
   "outputs": [
    {
     "data": {
      "image/png": "[encoded data removed]",
      "text/plain": [
       "<Figure size 1008x360 with 2 Axes>"
      ]
     },
     "metadata": {
      "needs_background": "light"
     },
     "output_type": "display_data"
    }
   ],
   "source": [
    "filtered = Copper[(Copper.Omean < result[\"Xbar_lim\"][1]) & (Copper.Omean > result[\"Xbar_lim\"][0])]\n",
    "fig, (ax1, ax2) = plt.subplots(nrows=1, ncols=2, figsize=(14,5))\n",
    "result2 = XbarRchart(filtered[\"Omean\"], filtered[\"Range\"], Xbar_plot=ax1, R_plot=ax2)"
   ]
  },
  {
   "cell_type": "markdown",
   "metadata": {},
   "source": [
    "*Turns out one iteration is enough - we can check if all points fall in between the control limits.*"
   ]
  },
  {
   "cell_type": "code",
   "execution_count": 213,
   "metadata": {},
   "outputs": [
    {
     "data": {
      "text/plain": [
       "True"
      ]
     },
     "execution_count": 213,
     "metadata": {},
     "output_type": "execute_result"
    }
   ],
   "source": [
    "all(filtered == filtered[(filtered.Omean < result2[\"Xbar_lim\"][1]) & (filtered.Omean > result2[\"Xbar_lim\"][0])])"
   ]
  },
  {
   "cell_type": "markdown",
   "metadata": {},
   "source": [
    "**Part (c)** Given that the specifications are at $6.0 \\pm 0.5$, estimate $C_p$ and $C_{pk}$ for the in-control process and interpret these ratios."
   ]
  },
  {
   "cell_type": "code",
   "execution_count": 217,
   "metadata": {},
   "outputs": [
    {
     "name": "stdout",
     "output_type": "stream",
     "text": [
      "Cp = 0.2495, Cpk = 0.10986\n"
     ]
    }
   ],
   "source": [
    "USL = 6.5; LSL = 5.5; d2 = 1.693;\n",
    "mu = result2[\"grand_mean\"]; sigma_hat = result2[\"mean_range\"] / d2\n",
    "Cp = (USL - LSL) / (6 * sigma_hat)\n",
    "Cpk = min((USL-mu), (mu-LSL)) / (3 * sigma_hat)\n",
    "print(f\"Cp = {np.round(Cp,5)}, Cpk = {np.round(Cpk,5)}\")"
   ]
  },
  {
   "cell_type": "markdown",
   "metadata": {},
   "source": [
    "*Comment: both `Cp` and `Cpk` are very small, so it is not capable of producing acceptable product. Under normal assumption, the average probability of making no mistake is approximately:*"
   ]
  },
  {
   "cell_type": "code",
   "execution_count": 222,
   "metadata": {},
   "outputs": [
    {
     "data": {
      "text/plain": [
       "0.5458491299027748"
      ]
     },
     "execution_count": 222,
     "metadata": {},
     "output_type": "execute_result"
    }
   ],
   "source": [
    "1 - 2*(1 - stats.norm.cdf(3*Cp))"
   ]
  }
 ],
 "metadata": {
  "kernelspec": {
   "display_name": "Python 3",
   "language": "python",
   "name": "python3"
  },
  "language_info": {
   "codemirror_mode": {
    "name": "ipython",
    "version": 3
   },
   "file_extension": ".py",
   "mimetype": "text/x-python",
   "name": "python",
   "nbconvert_exporter": "python",
   "pygments_lexer": "ipython3",
   "version": "3.7.6"
  }
 },
 "nbformat": 4,
 "nbformat_minor": 4
}
