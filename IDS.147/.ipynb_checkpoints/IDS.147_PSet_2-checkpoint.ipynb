{
 "cells": [
  {
   "cell_type": "markdown",
   "metadata": {},
   "source": [
    "15.077/IDS.147 Problem Set 2 (Python Version) <br>\n",
    "**Name:** Chun-Hei Lam. **ID:** 928931321 <br>\n",
    "**Declaration:** I pledge that the work submitted for this coursework is my ow unassisted work unless stated otherwise. <br>\n",
    "**Collaborator(s):** Harry Yu"
   ]
  },
  {
   "cell_type": "code",
   "execution_count": 2,
   "metadata": {},
   "outputs": [],
   "source": [
    "import numpy as np\n",
    "from scipy.special import xlogy\n",
    "from scipy import stats\n",
    "import pandas as pd\n",
    "import matplotlib.pyplot as plt\n",
    "from ipywidgets import interactive\n",
    "import seaborn as sns\n",
    "import statsmodels.api as sm"
   ]
  },
  {
   "cell_type": "markdown",
   "metadata": {},
   "source": [
    "# 8.66 Posterior Distribution"
   ]
  },
  {
   "cell_type": "markdown",
   "metadata": {},
   "source": [
    "Let the unknown probability that a basketball player makes a shot successfully be $\\theta$. Suppose your prior on $\\theta$ is uniform on $[0,1]$ and that she then makes two shots in a row. Assume that the outcomes of the two shots are independent."
   ]
  },
  {
   "cell_type": "markdown",
   "metadata": {},
   "source": [
    "**Part (a):** What is the posterior density of $\\theta$."
   ]
  },
  {
   "cell_type": "markdown",
   "metadata": {},
   "source": [
    "*Solution: Notice the prior is given as $p_\\theta(\\theta) = 1$ for all $\\theta \\in [0,1]$, and the likelihood is given as $p_{x|\\theta}(x\\,|\\,\\theta) = \\theta^x (1-\\theta)^{1-x}$ for all x \\in \\{0,1\\}, we have the posterior density as $$p_{\\theta|x_1,x_2}(\\theta|x_1=1,\\,x_2=1) \\propto p_{x|\\theta}(1\\,|\\,\\theta)p_{x|\\theta}(1\\,|\\,\\theta)p_\\theta(\\theta) = \\theta^2$$ Normalising (by dividing it over integral over $[0,1]$ yields the final density $p_{\\theta|x_1,x_2}(\\theta|x_1=1,\\,x_2=1) = 3\\theta^2$.*"
   ]
  },
  {
   "cell_type": "code",
   "execution_count": 25,
   "metadata": {},
   "outputs": [
    {
     "data": {
      "text/plain": [
       "Text(0.5, 1.0, 'posterior')"
      ]
     },
     "execution_count": 25,
     "metadata": {},
     "output_type": "execute_result"
    },
    {
     "data": {
      "image/png": "[encoded data removed]",
      "text/plain": [
       "<Figure size 1296x360 with 2 Axes>"
      ]
     },
     "metadata": {
      "needs_background": "light"
     },
     "output_type": "display_data"
    }
   ],
   "source": [
    "x1 = [0,1]; y1 = [1,1]\n",
    "x2 = np.linspace(0,1,99); y2 = 3*(x2**2)\n",
    "fig, (ax1,ax2) = plt.subplots(1, 2, figsize=(18,5))\n",
    "ax1.plot(x1,y1)\n",
    "ax1.set_ylim((-0.3,3.3))\n",
    "ax1.set_title(\"prior\")\n",
    "ax2.plot(x2,y2)\n",
    "ax2.set_ylim((-0.3,3.3))\n",
    "ax2.set_title(\"posterior\")"
   ]
  },
  {
   "cell_type": "markdown",
   "metadata": {},
   "source": [
    "**Part (b):** What would you estimate the probability that she makes a third shot to be?"
   ]
  },
  {
   "cell_type": "markdown",
   "metadata": {},
   "source": [
    "*Solution: We would use the posterior mean, i.e. $$\\mathbb{E}(\\theta\\,|\\,x_1=1,\\,x_2=1)=\\int_0^1 3\\theta^3\\, d\\theta = \\frac{3}{4}$$*"
   ]
  },
  {
   "cell_type": "markdown",
   "metadata": {},
   "source": [
    "# 9.24 Sign Test"
   ]
  },
  {
   "cell_type": "markdown",
   "metadata": {},
   "source": [
    "Let $X$ be a binomial random variable with $n$ trials and probability $p$ of success, i.e. $X \\sim \\text{B}(n,p)$."
   ]
  },
  {
   "cell_type": "markdown",
   "metadata": {},
   "source": [
    "**Part (a):** What is the generalised likelihood ratio for testinig $H_0: p=0.5$ versus $H_1: p \\neq 0.5$."
   ]
  },
  {
   "cell_type": "markdown",
   "metadata": {},
   "source": [
    "*Solution: take it for granted that the MLE of p is $\\hat{p}=X/n$, then the generalised likelihood ratio is\n",
    "\\begin{equation}\n",
    "\\Lambda = \\frac{\\sup_{p=0.5} \\mathbb{P}(X=x \\,|\\, p)}{\\sup_{p\\in[0,1]} \\mathbb{P}(X=x \\,|\\, p)} = \\frac{\\mathbb{P}(X=x \\,|\\, p=0.5)}{\\mathbb{P}(X=x \\,|\\, p=x/n)} = \\frac{C^n_x (1/2)^n}{C^n_x (x/n)^x (1-x/n)^{n-x}} = \\frac{1}{2^n (x/n)^x (1-x/n)^{n-x}}\n",
    "\\end{equation}*"
   ]
  },
  {
   "cell_type": "markdown",
   "metadata": {},
   "source": [
    "**Part (b):** Show that the test rejects for large values of $|X-n/2|$."
   ]
  },
  {
   "cell_type": "markdown",
   "metadata": {},
   "source": [
    "*Solution: the likelihood ratio test rejects when $T(x):=-2 \\ln \\Lambda(x)$ is large. Notice that\n",
    "\\begin{equation}\n",
    "T(x) = 2 \\left( n \\ln 2 + x \\ln \\left( \\frac{x}{n} \\right) + (n-x) \\ln \\left( 1-\\frac{x}{n} \\right) \\right), \\quad x = 0,1,...,n\n",
    "\\end{equation}*\n",
    "The following is a graph for $T(x)$ for varying $n$."
   ]
  },
  {
   "cell_type": "code",
   "execution_count": 62,
   "metadata": {},
   "outputs": [
    {
     "data": {
      "application/vnd.jupyter.widget-view+json": {
       "model_id": "82dcbb3d3ab748f2a20b9a76cf5a7d23",
       "version_major": 2,
       "version_minor": 0
      },
      "text/plain": [
       "interactive(children=(IntSlider(value=3, description='n', max=5, min=1), Output(layout=Layout(height='350px'))…"
      ]
     },
     "metadata": {},
     "output_type": "display_data"
    }
   ],
   "source": [
    "# set up plot\n",
    " \n",
    "def T(x, n):\n",
    "    return 2*(n*np.log(2)+xlogy(x,x/n)+xlogy(n-x,1-x/n))\n",
    "\n",
    "def f(n):\n",
    "    plt.figure(2)\n",
    "    x = np.linspace(0,n,100)\n",
    "    plt.plot(x, T(x,n))\n",
    "    plt.scatter([n/2],[0],color=\"red\")\n",
    "    plt.ylim([0,7])\n",
    "    plt.xlim([-0.3,5.3])\n",
    "    plt.show\n",
    "\n",
    "interactive_plot = interactive(f,n=(1,5))\n",
    "output = interactive_plot.children[-1]\n",
    "output.layout.height = \"350px\"\n",
    "interactive_plot"
   ]
  },
  {
   "cell_type": "markdown",
   "metadata": {},
   "source": [
    "*As we can see, the function $T(x)$ is convex and have minimum at $x=n/2$ (if we extend $T$ so that it is defined on $[0,n]$). One can formally show this by taking derivative of $T$:\n",
    "\\begin{equation}\n",
    "T'(x) = \\ln\\left(\\frac{x}{n} \\right) + 1 + \\ln\\left(1 - \\frac{x}{n} \\right) - 1 = \\ln\\left(\\frac{x}{n} \\left(1-\\frac{x}{n} \\right) \\right)\n",
    "\\end{equation}\n",
    "and that $T'(x) = 0$ iff $x = n/2$. Therefore the value of $T(x)$ is large whenever $|x-n/2|$ is large, and hence be rejected.*"
   ]
  },
  {
   "cell_type": "markdown",
   "metadata": {},
   "source": [
    "**Part (c):** Using the null distribution of $X$, show how the significance level corresponding to a rejection region $|X-n/2|>k$ can be determined."
   ]
  },
  {
   "cell_type": "markdown",
   "metadata": {},
   "source": [
    "*Solution: The significance level is \n",
    "\\begin{equation}\n",
    "\\mathbb{P}\\left(\\;\\left| X - \\frac{n}{2} \\right| > k \\; \\bigg| \\; H_0 \\right) = \\mathbb{P}\\left(\\; \\left| X - \\frac{n}{2} \\right| > k \\; \\bigg| \\; p=0.5 \\right)\n",
    "\\end{equation}*"
   ]
  },
  {
   "cell_type": "markdown",
   "metadata": {},
   "source": [
    "**Part (d):** If $n=10$ and $k=2$, what is the significance level of the test?\n",
    "\n",
    "*Solution: Under $H_0$ we have $X\\sim\\text{B}(10,0.5)$ and hence $\\alpha = \\mathbb{P}(|X-5|>2\\,|\\,p=0.5) = 2\\times \\mathbb{P}(X \\in \\{0,1,2 \\}\\,|\\,p=0.5)$*"
   ]
  },
  {
   "cell_type": "code",
   "execution_count": 7,
   "metadata": {},
   "outputs": [
    {
     "data": {
      "text/plain": [
       "0.10937500000000003"
      ]
     },
     "execution_count": 7,
     "metadata": {},
     "output_type": "execute_result"
    }
   ],
   "source": [
    "2*stats.binom.cdf(2,10,0.5)"
   ]
  },
  {
   "cell_type": "markdown",
   "metadata": {},
   "source": [
    "**Part (e):** Use the normal approximation to the binomial distribution to find the significance level if $n=100$ and $k=10$."
   ]
  },
  {
   "cell_type": "markdown",
   "metadata": {},
   "source": [
    "*Solution: Under $H_0$ we have $X\\sim\\text{B}(100,0.5)$, which is approximately distributed with $Z\\sim\\text{N}(50,25)$. Therefore $\\alpha = \\mathbb{P}(|X-50|>10 \\,|\\, p=0.5) = \\mathbb{P}(|Z-50|>10.5) = 2\\times \\mathbb{P}(Z<39.5)$. Note the continuity correction.*"
   ]
  },
  {
   "cell_type": "code",
   "execution_count": 8,
   "metadata": {},
   "outputs": [
    {
     "data": {
      "text/plain": [
       "0.035728841125633085"
      ]
     },
     "execution_count": 8,
     "metadata": {},
     "output_type": "execute_result"
    }
   ],
   "source": [
    "2*stats.norm.cdf(39.5,50,5)"
   ]
  },
  {
   "cell_type": "markdown",
   "metadata": {},
   "source": [
    "This analysis is the basis of the sign test, a typical application of which would be something like this: An experimental drug is to be evaluated on laboratory rats. Innpairs of litter mates, one animal is given the drug and the other is given a placebo. A physiological measure of benefit is made after some time has passed. Let $X$ be the number of pairs for which the animal receiving the drug benefited more than its litter mate. A simple model for the distribution of $X$ if there is no drug effect is binomial with $p=0.5$. This is then the null hypothesis that must be made untenable by thedata before one could conclude that the drug had an effect."
   ]
  },
  {
   "cell_type": "markdown",
   "metadata": {},
   "source": [
    "# 9.38 Seasonality Variations in Suicide Rates"
   ]
  },
  {
   "cell_type": "markdown",
   "metadata": {},
   "source": [
    "Yip et al. (2000) studied seasonal variations in suicide rates in England and Wales during 1982-1996, collecting counts shown in the following table:"
   ]
  },
  {
   "cell_type": "code",
   "execution_count": 3,
   "metadata": {},
   "outputs": [
    {
     "data": {
      "text/html": [
       "<div>\n",
       "<style scoped>\n",
       "    .dataframe tbody tr th:only-of-type {\n",
       "        vertical-align: middle;\n",
       "    }\n",
       "\n",
       "    .dataframe tbody tr th {\n",
       "        vertical-align: top;\n",
       "    }\n",
       "\n",
       "    .dataframe thead th {\n",
       "        text-align: right;\n",
       "    }\n",
       "</style>\n",
       "<table border=\"1\" class=\"dataframe\">\n",
       "  <thead>\n",
       "    <tr style=\"text-align: right;\">\n",
       "      <th></th>\n",
       "      <th>0</th>\n",
       "      <th>1</th>\n",
       "      <th>2</th>\n",
       "      <th>3</th>\n",
       "      <th>4</th>\n",
       "      <th>5</th>\n",
       "      <th>6</th>\n",
       "      <th>7</th>\n",
       "      <th>8</th>\n",
       "      <th>9</th>\n",
       "      <th>10</th>\n",
       "      <th>11</th>\n",
       "    </tr>\n",
       "  </thead>\n",
       "  <tbody>\n",
       "    <tr>\n",
       "      <th>Month</th>\n",
       "      <td>Jan</td>\n",
       "      <td>Feb</td>\n",
       "      <td>Mar</td>\n",
       "      <td>Apr</td>\n",
       "      <td>May</td>\n",
       "      <td>June</td>\n",
       "      <td>July</td>\n",
       "      <td>Aug</td>\n",
       "      <td>Sept</td>\n",
       "      <td>Oct</td>\n",
       "      <td>Nov</td>\n",
       "      <td>Dec</td>\n",
       "    </tr>\n",
       "    <tr>\n",
       "      <th>Male</th>\n",
       "      <td>3755</td>\n",
       "      <td>3251</td>\n",
       "      <td>3777</td>\n",
       "      <td>3706</td>\n",
       "      <td>3717</td>\n",
       "      <td>3660</td>\n",
       "      <td>3669</td>\n",
       "      <td>3626</td>\n",
       "      <td>3481</td>\n",
       "      <td>3590</td>\n",
       "      <td>3605</td>\n",
       "      <td>3392</td>\n",
       "    </tr>\n",
       "    <tr>\n",
       "      <th>Female</th>\n",
       "      <td>1362</td>\n",
       "      <td>1244</td>\n",
       "      <td>1496</td>\n",
       "      <td>1452</td>\n",
       "      <td>1448</td>\n",
       "      <td>1376</td>\n",
       "      <td>1370</td>\n",
       "      <td>1301</td>\n",
       "      <td>1337</td>\n",
       "      <td>1351</td>\n",
       "      <td>1416</td>\n",
       "      <td>1226</td>\n",
       "    </tr>\n",
       "  </tbody>\n",
       "</table>\n",
       "</div>"
      ],
      "text/plain": [
       "           0     1     2     3     4     5     6     7     8     9    10    11\n",
       "Month    Jan   Feb   Mar   Apr   May  June  July   Aug  Sept   Oct   Nov   Dec\n",
       "Male    3755  3251  3777  3706  3717  3660  3669  3626  3481  3590  3605  3392\n",
       "Female  1362  1244  1496  1452  1448  1376  1370  1301  1337  1351  1416  1226"
      ]
     },
     "execution_count": 3,
     "metadata": {},
     "output_type": "execute_result"
    }
   ],
   "source": [
    "suicide = pd.DataFrame({\n",
    "    'Month' : [\"Jan\", \"Feb\", \"Mar\", \"Apr\", \"May\", \"June\", \"July\", \"Aug\", \"Sept\", \"Oct\", \"Nov\", \"Dec\"],\n",
    "    'Male' : [3755, 3251, 3777, 3706, 3717, 3660, 3669, 3626, 3481, 3590, 3605, 3392],\n",
    "    'Female' : [1362, 1244, 1496, 1452, 1448, 1376, 1370, 1301, 1337, 1351, 1416, 1226] })\n",
    "suicide.T"
   ]
  },
  {
   "cell_type": "markdown",
   "metadata": {},
   "source": [
    "Do either the male or female data show seasonality?"
   ]
  },
  {
   "cell_type": "markdown",
   "metadata": {},
   "source": [
    "*Solution: We follow the procedure in 9.36. we first calculate the total counts:*"
   ]
  },
  {
   "cell_type": "code",
   "execution_count": 13,
   "metadata": {},
   "outputs": [
    {
     "name": "stdout",
     "output_type": "stream",
     "text": [
      "Total count for male is 43229.\n",
      "Total count for female is 16379.\n"
     ]
    }
   ],
   "source": [
    "male_total = sum(suicide[\"Male\"])\n",
    "female_total = sum(suicide[\"Female\"])\n",
    "print(f\"Total count for male is {male_total}.\")\n",
    "print(f\"Total count for female is {female_total}.\")"
   ]
  },
  {
   "cell_type": "markdown",
   "metadata": {},
   "source": [
    "*We then perform a Goodness-of-fit test to test whether the data exhibits seasonality. Notice that the counts of male/female in each month is multinomially $\\text{Multinomial}(\\vec{p} = (p_1,...,p_{12}))$ distributed , with $p_1+...+p_{12}=1$. In particular, if no seasonality is present then $p_i \\propto$ number of days present in the $i$-th month. We therefore set up the hypothesis test as following: $H_0: \\vec{p} = \\vec{p}_0 := (31,28,31,...,31)/365$ and $H_1: \\vec{p} \\neq \\vec{p}_0$. **Remark**: One may also assume a simplified model with $\\vec{p}_0 = (1,1,...,1)/12$. We will discuss the effect of choosing this model later.*"
   ]
  },
  {
   "cell_type": "code",
   "execution_count": 17,
   "metadata": {},
   "outputs": [],
   "source": [
    "p0 = np.array([31,28,31,30,31,30,31,31,30,31,30,31])/365"
   ]
  },
  {
   "cell_type": "markdown",
   "metadata": {},
   "source": [
    "Under $H_0$, the expected count is as followed."
   ]
  },
  {
   "cell_type": "code",
   "execution_count": 18,
   "metadata": {},
   "outputs": [
    {
     "data": {
      "text/html": [
       "<div>\n",
       "<style scoped>\n",
       "    .dataframe tbody tr th:only-of-type {\n",
       "        vertical-align: middle;\n",
       "    }\n",
       "\n",
       "    .dataframe tbody tr th {\n",
       "        vertical-align: top;\n",
       "    }\n",
       "\n",
       "    .dataframe thead th {\n",
       "        text-align: right;\n",
       "    }\n",
       "</style>\n",
       "<table border=\"1\" class=\"dataframe\">\n",
       "  <thead>\n",
       "    <tr style=\"text-align: right;\">\n",
       "      <th></th>\n",
       "      <th>0</th>\n",
       "      <th>1</th>\n",
       "      <th>2</th>\n",
       "      <th>3</th>\n",
       "      <th>4</th>\n",
       "      <th>5</th>\n",
       "      <th>6</th>\n",
       "      <th>7</th>\n",
       "      <th>8</th>\n",
       "      <th>9</th>\n",
       "      <th>10</th>\n",
       "      <th>11</th>\n",
       "    </tr>\n",
       "  </thead>\n",
       "  <tbody>\n",
       "    <tr>\n",
       "      <th>Month</th>\n",
       "      <td>Jan</td>\n",
       "      <td>Feb</td>\n",
       "      <td>Mar</td>\n",
       "      <td>Apr</td>\n",
       "      <td>May</td>\n",
       "      <td>June</td>\n",
       "      <td>July</td>\n",
       "      <td>Aug</td>\n",
       "      <td>Sept</td>\n",
       "      <td>Oct</td>\n",
       "      <td>Nov</td>\n",
       "      <td>Dec</td>\n",
       "    </tr>\n",
       "    <tr>\n",
       "      <th>Male</th>\n",
       "      <td>3671.5</td>\n",
       "      <td>3316.2</td>\n",
       "      <td>3671.5</td>\n",
       "      <td>3553.07</td>\n",
       "      <td>3671.5</td>\n",
       "      <td>3553.07</td>\n",
       "      <td>3671.5</td>\n",
       "      <td>3671.5</td>\n",
       "      <td>3553.07</td>\n",
       "      <td>3671.5</td>\n",
       "      <td>3553.07</td>\n",
       "      <td>3671.5</td>\n",
       "    </tr>\n",
       "    <tr>\n",
       "      <th>Female</th>\n",
       "      <td>1391.09</td>\n",
       "      <td>1256.47</td>\n",
       "      <td>1391.09</td>\n",
       "      <td>1346.22</td>\n",
       "      <td>1391.09</td>\n",
       "      <td>1346.22</td>\n",
       "      <td>1391.09</td>\n",
       "      <td>1391.09</td>\n",
       "      <td>1346.22</td>\n",
       "      <td>1391.09</td>\n",
       "      <td>1346.22</td>\n",
       "      <td>1391.09</td>\n",
       "    </tr>\n",
       "  </tbody>\n",
       "</table>\n",
       "</div>"
      ],
      "text/plain": [
       "              0        1        2        3        4        5        6  \\\n",
       "Month       Jan      Feb      Mar      Apr      May     June     July   \n",
       "Male     3671.5   3316.2   3671.5  3553.07   3671.5  3553.07   3671.5   \n",
       "Female  1391.09  1256.47  1391.09  1346.22  1391.09  1346.22  1391.09   \n",
       "\n",
       "              7        8        9       10       11  \n",
       "Month       Aug     Sept      Oct      Nov      Dec  \n",
       "Male     3671.5  3553.07   3671.5  3553.07   3671.5  \n",
       "Female  1391.09  1346.22  1391.09  1346.22  1391.09  "
      ]
     },
     "execution_count": 18,
     "metadata": {},
     "output_type": "execute_result"
    }
   ],
   "source": [
    "suicide_exp = pd.DataFrame({\n",
    "    'Month' : [\"Jan\", \"Feb\", \"Mar\", \"Apr\", \"May\", \"June\", \"July\", \"Aug\", \"Sept\", \"Oct\", \"Nov\", \"Dec\"],\n",
    "    'Male' : male_total*p0,\n",
    "    'Female' : female_total*p0 })\n",
    "suicide_exp.T"
   ]
  },
  {
   "cell_type": "markdown",
   "metadata": {},
   "source": [
    "We may then obtain the $\\chi^2$ statistic. Notice that the $\\chi^2$ statistic follows a $\\chi^2_{11}$ distribution. We may then look at the p-values. In python this could be done using the `chisquare` function in the `scipy.stats` library. "
   ]
  },
  {
   "cell_type": "code",
   "execution_count": 24,
   "metadata": {},
   "outputs": [
    {
     "name": "stdout",
     "output_type": "stream",
     "text": [
      "For Male: chisq statistic is 42.45023462019279, and p-value is 1.3533488959557966e-05\n",
      "For Female: chisq statistic is 50.525646061153765, and p-value is 5.034272315862472e-07\n"
     ]
    }
   ],
   "source": [
    "male_chisq, male_p = stats.chisquare(suicide[\"Male\"], suicide_exp[\"Male\"])\n",
    "female_chisq, female_p = stats.chisquare(suicide[\"Female\"], suicide_exp[\"Female\"])\n",
    "print(f\"For Male: chisq statistic is {male_chisq}, and p-value is {male_p}\")\n",
    "print(f\"For Female: chisq statistic is {female_chisq}, and p-value is {female_p}\")"
   ]
  },
  {
   "cell_type": "markdown",
   "metadata": {},
   "source": [
    "The p-value is very small, compared with typical significance level, say $5\\%$. With this significance level, we reject $H_0$ for both male and female. The data provided is not compatible with the hypothesis that no seasonality is present, so there might be seasonality present in suicide rate which worth further investigation."
   ]
  },
  {
   "cell_type": "markdown",
   "metadata": {},
   "source": [
    "**Remark:** If we use a simpler model with $\\vec{p}_0 = (1,1,...,1)/12$ then we get the following result:"
   ]
  },
  {
   "cell_type": "code",
   "execution_count": 27,
   "metadata": {},
   "outputs": [
    {
     "name": "stdout",
     "output_type": "stream",
     "text": [
      "For Male: chisq statistic is 74.56020264174514, and p-value is 1.6459364267971953e-11\n",
      "For Female: chisq statistic is 53.78564014897123, and p-value is 1.2915331595643268e-07\n"
     ]
    }
   ],
   "source": [
    "male_chisq_simpler, male_p_simpler = stats.chisquare(suicide[\"Male\"])\n",
    "female_chisq_simpler, female_p_simpler = stats.chisquare(suicide[\"Female\"])\n",
    "print(f\"For Male: chisq statistic is {male_chisq_simpler}, and p-value is {male_p_simpler}\")\n",
    "print(f\"For Female: chisq statistic is {female_chisq_simpler}, and p-value is {female_p_simpler}\")"
   ]
  },
  {
   "cell_type": "markdown",
   "metadata": {},
   "source": [
    "As we might have have expected, we are rejecting $H_0$ with $5\\%$ (or even lower) significance level. However I prefer the previous model which takes number of dates into account since this is more accurate - this is indicated by an increase in the  $\\chi^2$ statistics (especially for male). "
   ]
  },
  {
   "cell_type": "markdown",
   "metadata": {},
   "source": [
    "# 9.47 Variance Stabilizing Transformation"
   ]
  },
  {
   "cell_type": "markdown",
   "metadata": {},
   "source": [
    "Let $X$ follow a Poisson distribution with mean $\\lambda$. Show that the transformation $Y=\\sqrt{X}$ is variance-stabilizing."
   ]
  },
  {
   "cell_type": "markdown",
   "metadata": {},
   "source": [
    "*Solution: Notice that $\\text{Var}(X) = \\sigma^2(\\lambda) := \\lambda$ and $g(\\lambda) := \\sqrt{\\lambda}$ has derivative $g'(\\lambda) = 1/(2\\sqrt{\\lambda})$. By $\\delta$-method, we have \n",
    "\\begin{equation}\n",
    "\\text{Var}(Y) = \\sigma^2(\\lambda) (g'(\\lambda))^2 = \\lambda \\left( \\frac{1}{2\\sqrt{\\lambda}}\\right)^2 = \\frac{1}{4}\n",
    "\\end{equation}\n",
    "which is somewhat independent with the mean. Thus the transformation is variance stabilizing.*"
   ]
  },
  {
   "cell_type": "markdown",
   "metadata": {},
   "source": [
    "# 9.61 Volatility of Stock\n",
    "\n",
    "The files `haliburton` and `macdonalds` give the monthly returns on the stocks ofthese two companies from 1975 through 1999."
   ]
  },
  {
   "cell_type": "markdown",
   "metadata": {},
   "source": [
    "**Part (a):** Make histograms of the returns and superimpose fitted normal densities. Com-ment on the quality of the fit. Which stock is more volatile?"
   ]
  },
  {
   "cell_type": "markdown",
   "metadata": {},
   "source": [
    "**Part (b):** Make normal probability plots and again comment on the quality of the fit."
   ]
  },
  {
   "cell_type": "code",
   "execution_count": null,
   "metadata": {},
   "outputs": [],
   "source": []
  },
  {
   "cell_type": "code",
   "execution_count": null,
   "metadata": {},
   "outputs": [],
   "source": []
  },
  {
   "cell_type": "code",
   "execution_count": null,
   "metadata": {},
   "outputs": [],
   "source": []
  },
  {
   "cell_type": "code",
   "execution_count": null,
   "metadata": {},
   "outputs": [],
   "source": []
  },
  {
   "cell_type": "code",
   "execution_count": null,
   "metadata": {},
   "outputs": [],
   "source": []
  },
  {
   "cell_type": "code",
   "execution_count": null,
   "metadata": {},
   "outputs": [],
   "source": []
  },
  {
   "cell_type": "markdown",
   "metadata": {},
   "source": [
    "# 14.55\n",
    "\n",
    "**Part (a)**"
   ]
  },
  {
   "cell_type": "code",
   "execution_count": 6,
   "metadata": {},
   "outputs": [],
   "source": [
    "gas_train = pd.read_csv(\"./gasvapor_train.txt\", quotechar=\"'\")\n",
    "gas_test = pd.read_csv(\"./gasvapor_test.txt\", quotechar=\"'\")"
   ]
  },
  {
   "cell_type": "code",
   "execution_count": 7,
   "metadata": {},
   "outputs": [
    {
     "data": {
      "text/html": [
       "<div>\n",
       "<style scoped>\n",
       "    .dataframe tbody tr th:only-of-type {\n",
       "        vertical-align: middle;\n",
       "    }\n",
       "\n",
       "    .dataframe tbody tr th {\n",
       "        vertical-align: top;\n",
       "    }\n",
       "\n",
       "    .dataframe thead th {\n",
       "        text-align: right;\n",
       "    }\n",
       "</style>\n",
       "<table border=\"1\" class=\"dataframe\">\n",
       "  <thead>\n",
       "    <tr style=\"text-align: right;\">\n",
       "      <th></th>\n",
       "      <th>TankTemp</th>\n",
       "      <th>GasTemp</th>\n",
       "      <th>TankVapor</th>\n",
       "      <th>GasVapor</th>\n",
       "      <th>Hydrocarbons</th>\n",
       "    </tr>\n",
       "  </thead>\n",
       "  <tbody>\n",
       "    <tr>\n",
       "      <th>0</th>\n",
       "      <td>28</td>\n",
       "      <td>33</td>\n",
       "      <td>3.00</td>\n",
       "      <td>3.49</td>\n",
       "      <td>22</td>\n",
       "    </tr>\n",
       "    <tr>\n",
       "      <th>1</th>\n",
       "      <td>33</td>\n",
       "      <td>53</td>\n",
       "      <td>3.32</td>\n",
       "      <td>3.42</td>\n",
       "      <td>29</td>\n",
       "    </tr>\n",
       "    <tr>\n",
       "      <th>2</th>\n",
       "      <td>33</td>\n",
       "      <td>44</td>\n",
       "      <td>3.28</td>\n",
       "      <td>3.58</td>\n",
       "      <td>27</td>\n",
       "    </tr>\n",
       "    <tr>\n",
       "      <th>3</th>\n",
       "      <td>32</td>\n",
       "      <td>34</td>\n",
       "      <td>3.16</td>\n",
       "      <td>3.16</td>\n",
       "      <td>23</td>\n",
       "    </tr>\n",
       "    <tr>\n",
       "      <th>4</th>\n",
       "      <td>34</td>\n",
       "      <td>35</td>\n",
       "      <td>3.22</td>\n",
       "      <td>3.22</td>\n",
       "      <td>23</td>\n",
       "    </tr>\n",
       "    <tr>\n",
       "      <th>...</th>\n",
       "      <td>...</td>\n",
       "      <td>...</td>\n",
       "      <td>...</td>\n",
       "      <td>...</td>\n",
       "      <td>...</td>\n",
       "    </tr>\n",
       "    <tr>\n",
       "      <th>80</th>\n",
       "      <td>35</td>\n",
       "      <td>35</td>\n",
       "      <td>3.23</td>\n",
       "      <td>3.06</td>\n",
       "      <td>21</td>\n",
       "    </tr>\n",
       "    <tr>\n",
       "      <th>81</th>\n",
       "      <td>35</td>\n",
       "      <td>35</td>\n",
       "      <td>3.23</td>\n",
       "      <td>3.12</td>\n",
       "      <td>22</td>\n",
       "    </tr>\n",
       "    <tr>\n",
       "      <th>82</th>\n",
       "      <td>36</td>\n",
       "      <td>35</td>\n",
       "      <td>3.27</td>\n",
       "      <td>3.27</td>\n",
       "      <td>23</td>\n",
       "    </tr>\n",
       "    <tr>\n",
       "      <th>83</th>\n",
       "      <td>37</td>\n",
       "      <td>35</td>\n",
       "      <td>3.26</td>\n",
       "      <td>3.12</td>\n",
       "      <td>22</td>\n",
       "    </tr>\n",
       "    <tr>\n",
       "      <th>84</th>\n",
       "      <td>37</td>\n",
       "      <td>36</td>\n",
       "      <td>3.26</td>\n",
       "      <td>3.12</td>\n",
       "      <td>23</td>\n",
       "    </tr>\n",
       "  </tbody>\n",
       "</table>\n",
       "<p>85 rows × 5 columns</p>\n",
       "</div>"
      ],
      "text/plain": [
       "    TankTemp  GasTemp  TankVapor  GasVapor  Hydrocarbons\n",
       "0         28       33       3.00      3.49            22\n",
       "1         33       53       3.32      3.42            29\n",
       "2         33       44       3.28      3.58            27\n",
       "3         32       34       3.16      3.16            23\n",
       "4         34       35       3.22      3.22            23\n",
       "..       ...      ...        ...       ...           ...\n",
       "80        35       35       3.23      3.06            21\n",
       "81        35       35       3.23      3.12            22\n",
       "82        36       35       3.27      3.27            23\n",
       "83        37       35       3.26      3.12            22\n",
       "84        37       36       3.26      3.12            23\n",
       "\n",
       "[85 rows x 5 columns]"
      ]
     },
     "execution_count": 7,
     "metadata": {},
     "output_type": "execute_result"
    }
   ],
   "source": [
    "gas_train"
   ]
  },
  {
   "cell_type": "code",
   "execution_count": 8,
   "metadata": {},
   "outputs": [
    {
     "data": {
      "image/png": "[encoded data removed]",
      "text/plain": [
       "<Figure size 1008x1008 with 25 Axes>"
      ]
     },
     "metadata": {
      "needs_background": "light"
     },
     "output_type": "display_data"
    }
   ],
   "source": [
    "# define lists containing the variables we wish to plot\n",
    "y1 = gas_train['TankTemp']\n",
    "y2 = gas_train['GasTemp']\n",
    "y3 = gas_train['TankVapor']\n",
    "y4 = gas_train['GasVapor']\n",
    "y5 = gas_train['Hydrocarbons']\n",
    "\n",
    "# create a nested array with the above data, and a list with their labels\n",
    "dataArray = [y1, y2, y3, y4, y5]\n",
    "namesArray = ['TankTemp', 'GasTemp', 'TankVapor', 'GasVapor', 'Hydrocarbons']\n",
    "\n",
    "# set the dimensions of the scatter grid\n",
    "dim=[5,5]\n",
    "\n",
    "# build the function\n",
    "def subplot_generator(dataArray, namesArray, dim):\n",
    "    \n",
    "    # ceate the basic figure with a 5x5 subplot structure\n",
    "    fig, ax = plt.subplots(nrows=dim[0], ncols=dim[1])\n",
    "    # fig.suptitle('Scatter Grid for part (a)')\n",
    "    \n",
    "    # improve spacing\n",
    "    fig.tight_layout() \n",
    "    fig.subplots_adjust(wspace=0.2, hspace=0.2) \n",
    "    fig.set_figwidth(14)\n",
    "    fig.set_figheight(14)\n",
    "\n",
    "    # nested loop to run through each subplot and generate the plot\n",
    "    i_ind=0\n",
    "    j_ind=0 # indices for accessing data and correct axes\n",
    "    for j in dataArray:\n",
    "        for i in dataArray:\n",
    "            ax[j_ind, i_ind].scatter(dataArray[i_ind], dataArray[j_ind], marker='.') # create scatter on each subplot\n",
    "            ax[j_ind, i_ind].set_title(namesArray[j_ind] + ' vs\\n ' + namesArray[i_ind]) # give each subplot a title\n",
    "            ax[j_ind, i_ind].set(xlabel=namesArray[i_ind], ylabel=namesArray[j_ind]) # label each set of axes\n",
    "            i_ind+=1\n",
    "        j_ind+=1\n",
    "        i_ind=0\n",
    "\n",
    "    # loop to name only the outer most axes\n",
    "    for ax in ax.flat:\n",
    "        ax.label_outer()\n",
    "\n",
    "    plt.show()\n",
    "    return\n",
    "\n",
    "# call the function on our Dataset\n",
    "subplot_generator(dataArray, namesArray, dim)"
   ]
  },
  {
   "cell_type": "code",
   "execution_count": 9,
   "metadata": {},
   "outputs": [
    {
     "data": {
      "image/png": "[encoded data removed]",
      "text/plain": [
       "<Figure size 432x288 with 2 Axes>"
      ]
     },
     "metadata": {
      "needs_background": "light"
     },
     "output_type": "display_data"
    }
   ],
   "source": [
    "p = sns.heatmap(gas_train.corr('spearman'), center=0, annot=True)"
   ]
  },
  {
   "cell_type": "code",
   "execution_count": 51,
   "metadata": {},
   "outputs": [
    {
     "data": {
      "text/plain": [
       "Index(['TankTemp', 'GasTemp', 'TankVapor', 'GasVapor', 'Hydrocarbons'], dtype='object')"
      ]
     },
     "execution_count": 51,
     "metadata": {},
     "output_type": "execute_result"
    }
   ],
   "source": [
    "gas_train.columns"
   ]
  },
  {
   "cell_type": "code",
   "execution_count": 63,
   "metadata": {},
   "outputs": [
    {
     "data": {
      "text/html": [
       "<table class=\"simpletable\">\n",
       "<caption>OLS Regression Results</caption>\n",
       "<tr>\n",
       "  <th>Dep. Variable:</th>      <td>Hydrocarbons</td>   <th>  R-squared:         </th> <td>   0.877</td>\n",
       "</tr>\n",
       "<tr>\n",
       "  <th>Model:</th>                   <td>OLS</td>       <th>  Adj. R-squared:    </th> <td>   0.871</td>\n",
       "</tr>\n",
       "<tr>\n",
       "  <th>Method:</th>             <td>Least Squares</td>  <th>  F-statistic:       </th> <td>   142.7</td>\n",
       "</tr>\n",
       "<tr>\n",
       "  <th>Date:</th>             <td>Thu, 04 Mar 2021</td> <th>  Prob (F-statistic):</th> <td>1.39e-35</td>\n",
       "</tr>\n",
       "<tr>\n",
       "  <th>Time:</th>                 <td>23:57:54</td>     <th>  Log-Likelihood:    </th> <td> -203.98</td>\n",
       "</tr>\n",
       "<tr>\n",
       "  <th>No. Observations:</th>      <td>    85</td>      <th>  AIC:               </th> <td>   418.0</td>\n",
       "</tr>\n",
       "<tr>\n",
       "  <th>Df Residuals:</th>          <td>    80</td>      <th>  BIC:               </th> <td>   430.2</td>\n",
       "</tr>\n",
       "<tr>\n",
       "  <th>Df Model:</th>              <td>     4</td>      <th>                     </th>     <td> </td>   \n",
       "</tr>\n",
       "<tr>\n",
       "  <th>Covariance Type:</th>      <td>nonrobust</td>    <th>                     </th>     <td> </td>   \n",
       "</tr>\n",
       "</table>\n",
       "<table class=\"simpletable\">\n",
       "<tr>\n",
       "      <td></td>         <th>coef</th>     <th>std err</th>      <th>t</th>      <th>P>|t|</th>  <th>[0.025</th>    <th>0.975]</th>  \n",
       "</tr>\n",
       "<tr>\n",
       "  <th>const</th>     <td>    0.5676</td> <td>    1.301</td> <td>    0.436</td> <td> 0.664</td> <td>   -2.021</td> <td>    3.156</td>\n",
       "</tr>\n",
       "<tr>\n",
       "  <th>TankTemp</th>  <td>   -0.0264</td> <td>    0.065</td> <td>   -0.409</td> <td> 0.683</td> <td>   -0.155</td> <td>    0.102</td>\n",
       "</tr>\n",
       "<tr>\n",
       "  <th>GasTemp</th>   <td>    0.1848</td> <td>    0.052</td> <td>    3.542</td> <td> 0.001</td> <td>    0.081</td> <td>    0.289</td>\n",
       "</tr>\n",
       "<tr>\n",
       "  <th>TankVapor</th> <td>   -2.4630</td> <td>    1.988</td> <td>   -1.239</td> <td> 0.219</td> <td>   -6.419</td> <td>    1.493</td>\n",
       "</tr>\n",
       "<tr>\n",
       "  <th>GasVapor</th>  <td>    7.4800</td> <td>    2.003</td> <td>    3.735</td> <td> 0.000</td> <td>    3.494</td> <td>   11.466</td>\n",
       "</tr>\n",
       "</table>\n",
       "<table class=\"simpletable\">\n",
       "<tr>\n",
       "  <th>Omnibus:</th>       <td> 0.317</td> <th>  Durbin-Watson:     </th> <td>   0.988</td>\n",
       "</tr>\n",
       "<tr>\n",
       "  <th>Prob(Omnibus):</th> <td> 0.853</td> <th>  Jarque-Bera (JB):  </th> <td>   0.088</td>\n",
       "</tr>\n",
       "<tr>\n",
       "  <th>Skew:</th>          <td> 0.070</td> <th>  Prob(JB):          </th> <td>   0.957</td>\n",
       "</tr>\n",
       "<tr>\n",
       "  <th>Kurtosis:</th>      <td> 3.072</td> <th>  Cond. No.          </th> <td>    748.</td>\n",
       "</tr>\n",
       "</table><br/><br/>Warnings:<br/>[1] Standard Errors assume that the covariance matrix of the errors is correctly specified."
      ],
      "text/plain": [
       "<class 'statsmodels.iolib.summary.Summary'>\n",
       "\"\"\"\n",
       "                            OLS Regression Results                            \n",
       "==============================================================================\n",
       "Dep. Variable:           Hydrocarbons   R-squared:                       0.877\n",
       "Model:                            OLS   Adj. R-squared:                  0.871\n",
       "Method:                 Least Squares   F-statistic:                     142.7\n",
       "Date:                Thu, 04 Mar 2021   Prob (F-statistic):           1.39e-35\n",
       "Time:                        23:57:54   Log-Likelihood:                -203.98\n",
       "No. Observations:                  85   AIC:                             418.0\n",
       "Df Residuals:                      80   BIC:                             430.2\n",
       "Df Model:                           4                                         \n",
       "Covariance Type:            nonrobust                                         \n",
       "==============================================================================\n",
       "                 coef    std err          t      P>|t|      [0.025      0.975]\n",
       "------------------------------------------------------------------------------\n",
       "const          0.5676      1.301      0.436      0.664      -2.021       3.156\n",
       "TankTemp      -0.0264      0.065     -0.409      0.683      -0.155       0.102\n",
       "GasTemp        0.1848      0.052      3.542      0.001       0.081       0.289\n",
       "TankVapor     -2.4630      1.988     -1.239      0.219      -6.419       1.493\n",
       "GasVapor       7.4800      2.003      3.735      0.000       3.494      11.466\n",
       "==============================================================================\n",
       "Omnibus:                        0.317   Durbin-Watson:                   0.988\n",
       "Prob(Omnibus):                  0.853   Jarque-Bera (JB):                0.088\n",
       "Skew:                           0.070   Prob(JB):                        0.957\n",
       "Kurtosis:                       3.072   Cond. No.                         748.\n",
       "==============================================================================\n",
       "\n",
       "Warnings:\n",
       "[1] Standard Errors assume that the covariance matrix of the errors is correctly specified.\n",
       "\"\"\""
      ]
     },
     "execution_count": 63,
     "metadata": {},
     "output_type": "execute_result"
    }
   ],
   "source": [
    "X = gas_train[[\n",
    "    'TankTemp', \n",
    "    'GasTemp', \n",
    "    'TankVapor', \n",
    "    'GasVapor']]\n",
    "X = sm.add_constant(X)\n",
    "model = sm.OLS(gas_train['Hydrocarbons'], X )\n",
    "results = model.fit()\n",
    "results.summary()"
   ]
  },
  {
   "cell_type": "code",
   "execution_count": 64,
   "metadata": {},
   "outputs": [
    {
     "data": {
      "text/html": [
       "<table class=\"simpletable\">\n",
       "<caption>OLS Regression Results</caption>\n",
       "<tr>\n",
       "  <th>Dep. Variable:</th>      <td>Hydrocarbons</td>   <th>  R-squared:         </th> <td>   0.877</td>\n",
       "</tr>\n",
       "<tr>\n",
       "  <th>Model:</th>                   <td>OLS</td>       <th>  Adj. R-squared:    </th> <td>   0.872</td>\n",
       "</tr>\n",
       "<tr>\n",
       "  <th>Method:</th>             <td>Least Squares</td>  <th>  F-statistic:       </th> <td>   192.2</td>\n",
       "</tr>\n",
       "<tr>\n",
       "  <th>Date:</th>             <td>Thu, 04 Mar 2021</td> <th>  Prob (F-statistic):</th> <td>1.00e-36</td>\n",
       "</tr>\n",
       "<tr>\n",
       "  <th>Time:</th>                 <td>23:57:54</td>     <th>  Log-Likelihood:    </th> <td> -204.07</td>\n",
       "</tr>\n",
       "<tr>\n",
       "  <th>No. Observations:</th>      <td>    85</td>      <th>  AIC:               </th> <td>   416.1</td>\n",
       "</tr>\n",
       "<tr>\n",
       "  <th>Df Residuals:</th>          <td>    81</td>      <th>  BIC:               </th> <td>   425.9</td>\n",
       "</tr>\n",
       "<tr>\n",
       "  <th>Df Model:</th>              <td>     3</td>      <th>                     </th>     <td> </td>   \n",
       "</tr>\n",
       "<tr>\n",
       "  <th>Covariance Type:</th>      <td>nonrobust</td>    <th>                     </th>     <td> </td>   \n",
       "</tr>\n",
       "</table>\n",
       "<table class=\"simpletable\">\n",
       "<tr>\n",
       "      <td></td>         <th>coef</th>     <th>std err</th>      <th>t</th>      <th>P>|t|</th>  <th>[0.025</th>    <th>0.975]</th>  \n",
       "</tr>\n",
       "<tr>\n",
       "  <th>const</th>     <td>    0.6891</td> <td>    1.260</td> <td>    0.547</td> <td> 0.586</td> <td>   -1.817</td> <td>    3.196</td>\n",
       "</tr>\n",
       "<tr>\n",
       "  <th>GasTemp</th>   <td>    0.1725</td> <td>    0.042</td> <td>    4.064</td> <td> 0.000</td> <td>    0.088</td> <td>    0.257</td>\n",
       "</tr>\n",
       "<tr>\n",
       "  <th>TankVapor</th> <td>   -2.9611</td> <td>    1.564</td> <td>   -1.894</td> <td> 0.062</td> <td>   -6.072</td> <td>    0.150</td>\n",
       "</tr>\n",
       "<tr>\n",
       "  <th>GasVapor</th>  <td>    7.7619</td> <td>    1.871</td> <td>    4.148</td> <td> 0.000</td> <td>    4.039</td> <td>   11.485</td>\n",
       "</tr>\n",
       "</table>\n",
       "<table class=\"simpletable\">\n",
       "<tr>\n",
       "  <th>Omnibus:</th>       <td> 0.107</td> <th>  Durbin-Watson:     </th> <td>   0.996</td>\n",
       "</tr>\n",
       "<tr>\n",
       "  <th>Prob(Omnibus):</th> <td> 0.948</td> <th>  Jarque-Bera (JB):  </th> <td>   0.027</td>\n",
       "</tr>\n",
       "<tr>\n",
       "  <th>Skew:</th>          <td> 0.041</td> <th>  Prob(JB):          </th> <td>   0.987</td>\n",
       "</tr>\n",
       "<tr>\n",
       "  <th>Kurtosis:</th>      <td> 2.971</td> <th>  Cond. No.          </th> <td>    462.</td>\n",
       "</tr>\n",
       "</table><br/><br/>Warnings:<br/>[1] Standard Errors assume that the covariance matrix of the errors is correctly specified."
      ],
      "text/plain": [
       "<class 'statsmodels.iolib.summary.Summary'>\n",
       "\"\"\"\n",
       "                            OLS Regression Results                            \n",
       "==============================================================================\n",
       "Dep. Variable:           Hydrocarbons   R-squared:                       0.877\n",
       "Model:                            OLS   Adj. R-squared:                  0.872\n",
       "Method:                 Least Squares   F-statistic:                     192.2\n",
       "Date:                Thu, 04 Mar 2021   Prob (F-statistic):           1.00e-36\n",
       "Time:                        23:57:54   Log-Likelihood:                -204.07\n",
       "No. Observations:                  85   AIC:                             416.1\n",
       "Df Residuals:                      81   BIC:                             425.9\n",
       "Df Model:                           3                                         \n",
       "Covariance Type:            nonrobust                                         \n",
       "==============================================================================\n",
       "                 coef    std err          t      P>|t|      [0.025      0.975]\n",
       "------------------------------------------------------------------------------\n",
       "const          0.6891      1.260      0.547      0.586      -1.817       3.196\n",
       "GasTemp        0.1725      0.042      4.064      0.000       0.088       0.257\n",
       "TankVapor     -2.9611      1.564     -1.894      0.062      -6.072       0.150\n",
       "GasVapor       7.7619      1.871      4.148      0.000       4.039      11.485\n",
       "==============================================================================\n",
       "Omnibus:                        0.107   Durbin-Watson:                   0.996\n",
       "Prob(Omnibus):                  0.948   Jarque-Bera (JB):                0.027\n",
       "Skew:                           0.041   Prob(JB):                        0.987\n",
       "Kurtosis:                       2.971   Cond. No.                         462.\n",
       "==============================================================================\n",
       "\n",
       "Warnings:\n",
       "[1] Standard Errors assume that the covariance matrix of the errors is correctly specified.\n",
       "\"\"\""
      ]
     },
     "execution_count": 64,
     "metadata": {},
     "output_type": "execute_result"
    }
   ],
   "source": [
    "X = gas_train[[\n",
    "#    'TankTemp', \n",
    "    'GasTemp', \n",
    "    'TankVapor', \n",
    "    'GasVapor']]\n",
    "X = sm.add_constant(X)\n",
    "model = sm.OLS(gas_train['Hydrocarbons'], X )\n",
    "results = model.fit()\n",
    "results.summary()"
   ]
  },
  {
   "cell_type": "code",
   "execution_count": 65,
   "metadata": {},
   "outputs": [
    {
     "data": {
      "text/html": [
       "<table class=\"simpletable\">\n",
       "<caption>OLS Regression Results</caption>\n",
       "<tr>\n",
       "  <th>Dep. Variable:</th>      <td>Hydrocarbons</td>   <th>  R-squared:         </th> <td>   0.871</td>\n",
       "</tr>\n",
       "<tr>\n",
       "  <th>Model:</th>                   <td>OLS</td>       <th>  Adj. R-squared:    </th> <td>   0.868</td>\n",
       "</tr>\n",
       "<tr>\n",
       "  <th>Method:</th>             <td>Least Squares</td>  <th>  F-statistic:       </th> <td>   277.7</td>\n",
       "</tr>\n",
       "<tr>\n",
       "  <th>Date:</th>             <td>Thu, 04 Mar 2021</td> <th>  Prob (F-statistic):</th> <td>3.05e-37</td>\n",
       "</tr>\n",
       "<tr>\n",
       "  <th>Time:</th>                 <td>23:57:54</td>     <th>  Log-Likelihood:    </th> <td> -205.91</td>\n",
       "</tr>\n",
       "<tr>\n",
       "  <th>No. Observations:</th>      <td>    85</td>      <th>  AIC:               </th> <td>   417.8</td>\n",
       "</tr>\n",
       "<tr>\n",
       "  <th>Df Residuals:</th>          <td>    82</td>      <th>  BIC:               </th> <td>   425.1</td>\n",
       "</tr>\n",
       "<tr>\n",
       "  <th>Df Model:</th>              <td>     2</td>      <th>                     </th>     <td> </td>   \n",
       "</tr>\n",
       "<tr>\n",
       "  <th>Covariance Type:</th>      <td>nonrobust</td>    <th>                     </th>     <td> </td>   \n",
       "</tr>\n",
       "</table>\n",
       "<table class=\"simpletable\">\n",
       "<tr>\n",
       "      <td></td>        <th>coef</th>     <th>std err</th>      <th>t</th>      <th>P>|t|</th>  <th>[0.025</th>    <th>0.975]</th>  \n",
       "</tr>\n",
       "<tr>\n",
       "  <th>const</th>    <td>    0.5590</td> <td>    1.278</td> <td>    0.438</td> <td> 0.663</td> <td>   -1.983</td> <td>    3.101</td>\n",
       "</tr>\n",
       "<tr>\n",
       "  <th>GasTemp</th>  <td>    0.2065</td> <td>    0.039</td> <td>    5.282</td> <td> 0.000</td> <td>    0.129</td> <td>    0.284</td>\n",
       "</tr>\n",
       "<tr>\n",
       "  <th>GasVapor</th> <td>    4.3497</td> <td>    0.512</td> <td>    8.492</td> <td> 0.000</td> <td>    3.331</td> <td>    5.369</td>\n",
       "</tr>\n",
       "</table>\n",
       "<table class=\"simpletable\">\n",
       "<tr>\n",
       "  <th>Omnibus:</th>       <td> 1.780</td> <th>  Durbin-Watson:     </th> <td>   0.939</td>\n",
       "</tr>\n",
       "<tr>\n",
       "  <th>Prob(Omnibus):</th> <td> 0.411</td> <th>  Jarque-Bera (JB):  </th> <td>   1.185</td>\n",
       "</tr>\n",
       "<tr>\n",
       "  <th>Skew:</th>          <td>-0.129</td> <th>  Prob(JB):          </th> <td>   0.553</td>\n",
       "</tr>\n",
       "<tr>\n",
       "  <th>Kurtosis:</th>      <td> 3.517</td> <th>  Cond. No.          </th> <td>    241.</td>\n",
       "</tr>\n",
       "</table><br/><br/>Warnings:<br/>[1] Standard Errors assume that the covariance matrix of the errors is correctly specified."
      ],
      "text/plain": [
       "<class 'statsmodels.iolib.summary.Summary'>\n",
       "\"\"\"\n",
       "                            OLS Regression Results                            \n",
       "==============================================================================\n",
       "Dep. Variable:           Hydrocarbons   R-squared:                       0.871\n",
       "Model:                            OLS   Adj. R-squared:                  0.868\n",
       "Method:                 Least Squares   F-statistic:                     277.7\n",
       "Date:                Thu, 04 Mar 2021   Prob (F-statistic):           3.05e-37\n",
       "Time:                        23:57:54   Log-Likelihood:                -205.91\n",
       "No. Observations:                  85   AIC:                             417.8\n",
       "Df Residuals:                      82   BIC:                             425.1\n",
       "Df Model:                           2                                         \n",
       "Covariance Type:            nonrobust                                         \n",
       "==============================================================================\n",
       "                 coef    std err          t      P>|t|      [0.025      0.975]\n",
       "------------------------------------------------------------------------------\n",
       "const          0.5590      1.278      0.438      0.663      -1.983       3.101\n",
       "GasTemp        0.2065      0.039      5.282      0.000       0.129       0.284\n",
       "GasVapor       4.3497      0.512      8.492      0.000       3.331       5.369\n",
       "==============================================================================\n",
       "Omnibus:                        1.780   Durbin-Watson:                   0.939\n",
       "Prob(Omnibus):                  0.411   Jarque-Bera (JB):                1.185\n",
       "Skew:                          -0.129   Prob(JB):                        0.553\n",
       "Kurtosis:                       3.517   Cond. No.                         241.\n",
       "==============================================================================\n",
       "\n",
       "Warnings:\n",
       "[1] Standard Errors assume that the covariance matrix of the errors is correctly specified.\n",
       "\"\"\""
      ]
     },
     "execution_count": 65,
     "metadata": {},
     "output_type": "execute_result"
    }
   ],
   "source": [
    "X = gas_train[[\n",
    "#    'TankTemp', \n",
    "    'GasTemp',\n",
    "#    'TankVapor',\n",
    "    'GasVapor']]\n",
    "X = sm.add_constant(X)\n",
    "model = sm.OLS(gas_train['Hydrocarbons'], X )\n",
    "results = model.fit()\n",
    "results.summary()"
   ]
  },
  {
   "cell_type": "markdown",
   "metadata": {},
   "source": [
    "Prediction"
   ]
  },
  {
   "cell_type": "code",
   "execution_count": 71,
   "metadata": {},
   "outputs": [],
   "source": [
    "predict_test = results.predict(sm.add_constant(gas_test[['GasTemp','GasVapor']]))"
   ]
  },
  {
   "cell_type": "code",
   "execution_count": 74,
   "metadata": {},
   "outputs": [],
   "source": [
    "err = gas_test[\"Hydrocarbons\"] - predict_test"
   ]
  },
  {
   "cell_type": "code",
   "execution_count": 101,
   "metadata": {},
   "outputs": [
    {
     "data": {
      "text/plain": [
       "[<matplotlib.lines.Line2D at 0x178914cec48>]"
      ]
     },
     "execution_count": 101,
     "metadata": {},
     "output_type": "execute_result"
    },
    {
     "data": {
      "image/png": "[encoded data removed]",
      "text/plain": [
       "<Figure size 432x288 with 1 Axes>"
      ]
     },
     "metadata": {
      "needs_background": "light"
     },
     "output_type": "display_data"
    }
   ],
   "source": [
    "plt.scatter(gas_test[\"Hydrocarbons\"], predict_test)\n",
    "plt.ylabel(\"Predicted values\")\n",
    "plt.xlabel(\"Observed values\")\n",
    "\n",
    "xmin = gas_test[\"Hydrocarbons\"].min() - 2\n",
    "xmax = gas_test[\"Hydrocarbons\"].max() + 2\n",
    "\n",
    "plt.plot([xmin, xmax], [xmin,xmax])"
   ]
  },
  {
   "cell_type": "code",
   "execution_count": 100,
   "metadata": {},
   "outputs": [
    {
     "data": {
      "image/png": "[encoded data removed]",
      "text/plain": [
       "<Figure size 1296x360 with 3 Axes>"
      ]
     },
     "metadata": {
      "needs_background": "light"
     },
     "output_type": "display_data"
    }
   ],
   "source": [
    "namesArray = ['GasTemp', 'GasVapor', 'Hydrocarbons']\n",
    "dataArray = np.array(gas_test[namesArray])\n",
    "fig, ax = plt.subplots(nrows=1, ncols=3)\n",
    "\n",
    "fig.tight_layout() \n",
    "fig.subplots_adjust(wspace=0.2, hspace=0.2) \n",
    "fig.set_figwidth(18)\n",
    "fig.set_figheight(5)\n",
    "\n",
    "for i in range(3):\n",
    "    ax[i].scatter(dataArray[:,i], err) # create scatter on each subplot\n",
    "    ax[i].set_title(namesArray[i] + ' vs ' + \"Error\") # give each subplot a title\n",
    "    ax[i].set(xlabel=namesArray[i], ylabel=\"Error\") # label each set of axes\n",
    "    \n",
    "for ax in ax.flat:\n",
    "    ax.label_outer()"
   ]
  },
  {
   "cell_type": "code",
   "execution_count": 91,
   "metadata": {},
   "outputs": [
    {
     "data": {
      "text/plain": [
       "3.446586830789645"
      ]
     },
     "execution_count": 91,
     "metadata": {},
     "output_type": "execute_result"
    }
   ],
   "source": [
    "rmspe = np.sqrt(np.sum(err**2)/40)\n",
    "rmspe"
   ]
  }
 ],
 "metadata": {
  "kernelspec": {
   "display_name": "Python 3",
   "language": "python",
   "name": "python3"
  },
  "language_info": {
   "codemirror_mode": {
    "name": "ipython",
    "version": 3
   },
   "file_extension": ".py",
   "mimetype": "text/x-python",
   "name": "python",
   "nbconvert_exporter": "python",
   "pygments_lexer": "ipython3",
   "version": "3.7.6"
  }
 },
 "nbformat": 4,
 "nbformat_minor": 4
}
