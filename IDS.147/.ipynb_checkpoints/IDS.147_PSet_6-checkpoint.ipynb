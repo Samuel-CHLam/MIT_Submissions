{
 "cells": [
  {
   "cell_type": "markdown",
   "metadata": {},
   "source": [
    "15.077/IDS.147 Problem Set 6 <br>\n",
    "**Name:** Chun-Hei Lam. **ID:** 928931321 <br>\n",
    "**Declaration:** I pledge that the work submitted for this coursework is my own unassisted work unless stated otherwise. <br>\n",
    "**Acknowledgement to:** Harry Yu"
   ]
  },
  {
   "cell_type": "code",
   "execution_count": 2,
   "metadata": {},
   "outputs": [],
   "source": [
    "import numpy as np\n",
    "import pandas as pd\n",
    "import matplotlib.pyplot as plt"
   ]
  },
  {
   "cell_type": "code",
   "execution_count": 42,
   "metadata": {},
   "outputs": [],
   "source": [
    "import sklearn.linear_model\n",
    "import sklearn.model_selection\n",
    "import sklearn.tree\n",
    "import graphviz"
   ]
  },
  {
   "cell_type": "markdown",
   "metadata": {},
   "source": [
    "# Financial Condition of Banks\n",
    "\n",
    "The file `Banks.xls` includes data on a sample of 20 banks. The Financial Condition column records the judgment of an expert on the financial condition of each bank. This response variable takes one of two possible values, `weak`  or `strong`, according to the financial condition of the bank. The predictors are two ratios used in the financial analysis of banks: $x_1=$ `TotLns&Lses/Assets` is the ratio of total loans andleases to total assets and $x_2=$ `TotExp/Assets` is the ratio of total expenses to total assets. The target is to use the two ratios for classifying the financial condition of a new bank. "
   ]
  },
  {
   "cell_type": "code",
   "execution_count": 6,
   "metadata": {},
   "outputs": [
    {
     "data": {
      "text/html": [
       "<div>\n",
       "<style scoped>\n",
       "    .dataframe tbody tr th:only-of-type {\n",
       "        vertical-align: middle;\n",
       "    }\n",
       "\n",
       "    .dataframe tbody tr th {\n",
       "        vertical-align: top;\n",
       "    }\n",
       "\n",
       "    .dataframe thead th {\n",
       "        text-align: right;\n",
       "    }\n",
       "</style>\n",
       "<table border=\"1\" class=\"dataframe\">\n",
       "  <thead>\n",
       "    <tr style=\"text-align: right;\">\n",
       "      <th></th>\n",
       "      <th>Obs</th>\n",
       "      <th>Financial Condition</th>\n",
       "      <th>TotCap/Assets</th>\n",
       "      <th>TotExp/Assets</th>\n",
       "      <th>TotLns&amp;Lses/Assets</th>\n",
       "    </tr>\n",
       "  </thead>\n",
       "  <tbody>\n",
       "    <tr>\n",
       "      <th>0</th>\n",
       "      <td>1</td>\n",
       "      <td>1</td>\n",
       "      <td>8.1</td>\n",
       "      <td>0.13</td>\n",
       "      <td>0.64</td>\n",
       "    </tr>\n",
       "    <tr>\n",
       "      <th>1</th>\n",
       "      <td>2</td>\n",
       "      <td>1</td>\n",
       "      <td>6.6</td>\n",
       "      <td>0.10</td>\n",
       "      <td>1.04</td>\n",
       "    </tr>\n",
       "    <tr>\n",
       "      <th>2</th>\n",
       "      <td>3</td>\n",
       "      <td>1</td>\n",
       "      <td>5.8</td>\n",
       "      <td>0.11</td>\n",
       "      <td>0.66</td>\n",
       "    </tr>\n",
       "    <tr>\n",
       "      <th>3</th>\n",
       "      <td>4</td>\n",
       "      <td>1</td>\n",
       "      <td>12.3</td>\n",
       "      <td>0.09</td>\n",
       "      <td>0.80</td>\n",
       "    </tr>\n",
       "    <tr>\n",
       "      <th>4</th>\n",
       "      <td>5</td>\n",
       "      <td>1</td>\n",
       "      <td>4.5</td>\n",
       "      <td>0.11</td>\n",
       "      <td>0.69</td>\n",
       "    </tr>\n",
       "    <tr>\n",
       "      <th>5</th>\n",
       "      <td>6</td>\n",
       "      <td>1</td>\n",
       "      <td>9.1</td>\n",
       "      <td>0.14</td>\n",
       "      <td>0.74</td>\n",
       "    </tr>\n",
       "    <tr>\n",
       "      <th>6</th>\n",
       "      <td>7</td>\n",
       "      <td>1</td>\n",
       "      <td>1.1</td>\n",
       "      <td>0.12</td>\n",
       "      <td>0.63</td>\n",
       "    </tr>\n",
       "    <tr>\n",
       "      <th>7</th>\n",
       "      <td>8</td>\n",
       "      <td>1</td>\n",
       "      <td>8.9</td>\n",
       "      <td>0.12</td>\n",
       "      <td>0.75</td>\n",
       "    </tr>\n",
       "    <tr>\n",
       "      <th>8</th>\n",
       "      <td>9</td>\n",
       "      <td>1</td>\n",
       "      <td>0.7</td>\n",
       "      <td>0.16</td>\n",
       "      <td>0.56</td>\n",
       "    </tr>\n",
       "    <tr>\n",
       "      <th>9</th>\n",
       "      <td>10</td>\n",
       "      <td>1</td>\n",
       "      <td>9.8</td>\n",
       "      <td>0.12</td>\n",
       "      <td>0.65</td>\n",
       "    </tr>\n",
       "    <tr>\n",
       "      <th>10</th>\n",
       "      <td>11</td>\n",
       "      <td>0</td>\n",
       "      <td>7.3</td>\n",
       "      <td>0.10</td>\n",
       "      <td>0.55</td>\n",
       "    </tr>\n",
       "    <tr>\n",
       "      <th>11</th>\n",
       "      <td>12</td>\n",
       "      <td>0</td>\n",
       "      <td>14.0</td>\n",
       "      <td>0.08</td>\n",
       "      <td>0.46</td>\n",
       "    </tr>\n",
       "    <tr>\n",
       "      <th>12</th>\n",
       "      <td>13</td>\n",
       "      <td>0</td>\n",
       "      <td>9.6</td>\n",
       "      <td>0.08</td>\n",
       "      <td>0.72</td>\n",
       "    </tr>\n",
       "    <tr>\n",
       "      <th>13</th>\n",
       "      <td>14</td>\n",
       "      <td>0</td>\n",
       "      <td>12.4</td>\n",
       "      <td>0.08</td>\n",
       "      <td>0.43</td>\n",
       "    </tr>\n",
       "    <tr>\n",
       "      <th>14</th>\n",
       "      <td>15</td>\n",
       "      <td>0</td>\n",
       "      <td>18.4</td>\n",
       "      <td>0.07</td>\n",
       "      <td>0.52</td>\n",
       "    </tr>\n",
       "    <tr>\n",
       "      <th>15</th>\n",
       "      <td>16</td>\n",
       "      <td>0</td>\n",
       "      <td>8.0</td>\n",
       "      <td>0.08</td>\n",
       "      <td>0.54</td>\n",
       "    </tr>\n",
       "    <tr>\n",
       "      <th>16</th>\n",
       "      <td>17</td>\n",
       "      <td>0</td>\n",
       "      <td>12.6</td>\n",
       "      <td>0.09</td>\n",
       "      <td>0.30</td>\n",
       "    </tr>\n",
       "    <tr>\n",
       "      <th>17</th>\n",
       "      <td>18</td>\n",
       "      <td>0</td>\n",
       "      <td>9.8</td>\n",
       "      <td>0.07</td>\n",
       "      <td>0.67</td>\n",
       "    </tr>\n",
       "    <tr>\n",
       "      <th>18</th>\n",
       "      <td>19</td>\n",
       "      <td>0</td>\n",
       "      <td>8.3</td>\n",
       "      <td>0.09</td>\n",
       "      <td>0.51</td>\n",
       "    </tr>\n",
       "    <tr>\n",
       "      <th>19</th>\n",
       "      <td>20</td>\n",
       "      <td>0</td>\n",
       "      <td>20.6</td>\n",
       "      <td>0.13</td>\n",
       "      <td>0.79</td>\n",
       "    </tr>\n",
       "  </tbody>\n",
       "</table>\n",
       "</div>"
      ],
      "text/plain": [
       "    Obs  Financial Condition  TotCap/Assets  TotExp/Assets  TotLns&Lses/Assets\n",
       "0     1                    1            8.1           0.13                0.64\n",
       "1     2                    1            6.6           0.10                1.04\n",
       "2     3                    1            5.8           0.11                0.66\n",
       "3     4                    1           12.3           0.09                0.80\n",
       "4     5                    1            4.5           0.11                0.69\n",
       "5     6                    1            9.1           0.14                0.74\n",
       "6     7                    1            1.1           0.12                0.63\n",
       "7     8                    1            8.9           0.12                0.75\n",
       "8     9                    1            0.7           0.16                0.56\n",
       "9    10                    1            9.8           0.12                0.65\n",
       "10   11                    0            7.3           0.10                0.55\n",
       "11   12                    0           14.0           0.08                0.46\n",
       "12   13                    0            9.6           0.08                0.72\n",
       "13   14                    0           12.4           0.08                0.43\n",
       "14   15                    0           18.4           0.07                0.52\n",
       "15   16                    0            8.0           0.08                0.54\n",
       "16   17                    0           12.6           0.09                0.30\n",
       "17   18                    0            9.8           0.07                0.67\n",
       "18   19                    0            8.3           0.09                0.51\n",
       "19   20                    0           20.6           0.13                0.79"
      ]
     },
     "execution_count": 6,
     "metadata": {},
     "output_type": "execute_result"
    }
   ],
   "source": [
    "financial = pd.read_csv(\"./Banks.csv\")\n",
    "financial"
   ]
  },
  {
   "cell_type": "markdown",
   "metadata": {},
   "source": [
    "Run a logistic regression model (on the entire dataset) that models the status of a bank as a function of the two financial measures provided. Specify the success class as weak (this is similar to creating a dummy that is `1` for financially weak banks and `0` otherwise), and use the default cutoff value of 0.5."
   ]
  },
  {
   "cell_type": "code",
   "execution_count": 15,
   "metadata": {},
   "outputs": [
    {
     "data": {
      "text/plain": [
       "array([[0.74391107, 0.16053299]])"
      ]
     },
     "execution_count": 15,
     "metadata": {},
     "output_type": "execute_result"
    }
   ],
   "source": [
    "skmodel = sklearn.linear_model.LogisticRegression().fit(financial[[\"TotLns&Lses/Assets\", \"TotExp/Assets\"]], financial[\"Financial Condition\"])\n",
    "skmodel.coef_"
   ]
  },
  {
   "cell_type": "markdown",
   "metadata": {},
   "source": [
    "Denote the intercept term $\\beta_0$. For the following part I write the estimator of $\\beta_i$'s be $\\hat{\\beta}_i$'s for $i=0,1,2$. Also write probability of being classified as $1$ as $p$, so that the probability of being classified as $0$ is $1-p$. <br>\n",
    "\n",
    "**Part (a):** Write the estimated equation that associates the financial condition of a bank with its two predictors in three formats: <br>\n",
    "i. The logit as a function of the predictors\n",
    "\\begin{equation}\n",
    "\\ln \\left(\\frac{p}{1-p}\\right) = \\hat{\\beta}_0 + \\hat{\\beta}_1 x_1 + \\hat{\\beta}_1 x_2\n",
    "\\end{equation}\n",
    "ii. The odds as a function of the predictors <br>\n",
    "\\begin{equation}\n",
    "\\frac{p}{1-p} = \\exp \\left( \\hat{\\beta}_0 + \\hat{\\beta}_1 x_1 + \\hat{\\beta}_1 x_2 \\right)\n",
    "\\end{equation}\n",
    "iii. The probability as a function of the predictors <br>\n",
    "\\begin{equation}\n",
    "p = \\frac{1}{1+\\exp\\left( - \\left( \\hat{\\beta}_0 + \\hat{\\beta}_1 x_1 + \\hat{\\beta}_1 x_2 \\right) \\right)}\n",
    "\\end{equation}"
   ]
  },
  {
   "cell_type": "markdown",
   "metadata": {},
   "source": [
    "**Part (b):** Consider a new bank whose totalloans and leases/assets ratio `TotLns&Lses/Assets` = 0.6 and total expenses/assets ratio `TotExp/Assets` = 0.11. From your logistic regression model, estimate the following four quantities for this bank: the logit, the odds, the probability of being financially weak, and the classification of the bank."
   ]
  },
  {
   "cell_type": "code",
   "execution_count": 25,
   "metadata": {},
   "outputs": [
    {
     "name": "stdout",
     "output_type": "stream",
     "text": [
      "logit = -0.023096114955381997\n",
      "odd = 0.9771685587471249\n",
      "probability = 0.4942262279177293\n",
      "classification = 0\n"
     ]
    }
   ],
   "source": [
    "X = [[0.6, 0.11]]\n",
    "print(f\"logit = {skmodel.predict_log_proba(X)[0][1] - skmodel.predict_log_proba(X)[0][0]}\")\n",
    "print(f\"odd = {skmodel.predict_proba(X)[0][1] / skmodel.predict_proba(X)[0][0]}\")\n",
    "print(f\"probability = {skmodel.predict_proba(X)[0][1]}\")\n",
    "print(f\"classification = {skmodel.predict(X)[0]}\")"
   ]
  },
  {
   "cell_type": "markdown",
   "metadata": {},
   "source": [
    "**Part (c):** The cutoff value of 0.5 is used in conjunction with the probability of being financially weak. Compute the threshold that should be used if we want to make a classification based on the odds of being financially weak, and the threshold for the corresponding logit. \n",
    "\n",
    "|Class|Probability|Odds|Logit|\n",
    "|-- |-- |-- |--|\n",
    "|Weak | `1`| `>0.5` | `>1` | `>0` |\n",
    "|Strong | `0`| `<0.5` | `<1` | `<0` |"
   ]
  },
  {
   "cell_type": "markdown",
   "metadata": {},
   "source": [
    "**Part (d):** Interpret the estimated coefficient for the total loans and leases to total assets ratio (`TotLns&Lses`/`Assets`) in terms of the odds of being financially weak. <br>\n",
    "*Interpretation: When the `TotLns&Lses/Assets` is increased by one unit, the odd increases by a factor of $\\exp(\\hat{\\beta_1})$.*"
   ]
  },
  {
   "cell_type": "markdown",
   "metadata": {},
   "source": [
    "**Part (e):** When a bank that is in poor financial condition is misclassified as financially strong, the misclassification cost is much higher than when a financially strong bank is misclassified as weak. To minimize the expected cost of misclassification, should the cutoff value for classification (which is currently at 0.5) be increased or decreased? <br>\n",
    "\n",
    "*Solution: The cutoff should be decreased.*"
   ]
  },
  {
   "cell_type": "markdown",
   "metadata": {},
   "source": [
    "**Part (f):** If the software you are using makes it fairly easy to do, try five-fold cross validation to choose the optimal cutoff value."
   ]
  },
  {
   "cell_type": "code",
   "execution_count": null,
   "metadata": {},
   "outputs": [],
   "source": []
  },
  {
   "cell_type": "markdown",
   "metadata": {},
   "source": [
    "# Competitive Auctions in eBay.com\n",
    "\n",
    "The file `eBayAuctions.xls` contains information on 1972 auctions transacted on eBay.com. The goal is to use these data to build a model that will classify competitive auctions from noncompetitive ones. A competitive auction is defined as an auction with at least two bids placed on the item auctioned. The data include variables that \n",
    "- describe the item (auction category), \n",
    "- the seller (his/her eBay rating), and \n",
    "- the auction terms that the seller selected (auction duration, opening price, currency, day-of-week of auction close). \n",
    "In addition, we have the price at which the auction closed. The goal is to predict whether or not the auction will be competitive."
   ]
  },
  {
   "cell_type": "code",
   "execution_count": 10,
   "metadata": {},
   "outputs": [
    {
     "data": {
      "text/html": [
       "<div>\n",
       "<style scoped>\n",
       "    .dataframe tbody tr th:only-of-type {\n",
       "        vertical-align: middle;\n",
       "    }\n",
       "\n",
       "    .dataframe tbody tr th {\n",
       "        vertical-align: top;\n",
       "    }\n",
       "\n",
       "    .dataframe thead th {\n",
       "        text-align: right;\n",
       "    }\n",
       "</style>\n",
       "<table border=\"1\" class=\"dataframe\">\n",
       "  <thead>\n",
       "    <tr style=\"text-align: right;\">\n",
       "      <th></th>\n",
       "      <th>Category</th>\n",
       "      <th>currency</th>\n",
       "      <th>sellerRating</th>\n",
       "      <th>Duration</th>\n",
       "      <th>endDay</th>\n",
       "      <th>ClosePrice</th>\n",
       "      <th>OpenPrice</th>\n",
       "      <th>Competitive?</th>\n",
       "    </tr>\n",
       "  </thead>\n",
       "  <tbody>\n",
       "    <tr>\n",
       "      <th>0</th>\n",
       "      <td>Music/Movie/Game</td>\n",
       "      <td>US</td>\n",
       "      <td>3249</td>\n",
       "      <td>5</td>\n",
       "      <td>Mon</td>\n",
       "      <td>0.01</td>\n",
       "      <td>0.01</td>\n",
       "      <td>0</td>\n",
       "    </tr>\n",
       "    <tr>\n",
       "      <th>1</th>\n",
       "      <td>Music/Movie/Game</td>\n",
       "      <td>US</td>\n",
       "      <td>3249</td>\n",
       "      <td>5</td>\n",
       "      <td>Mon</td>\n",
       "      <td>0.01</td>\n",
       "      <td>0.01</td>\n",
       "      <td>0</td>\n",
       "    </tr>\n",
       "    <tr>\n",
       "      <th>2</th>\n",
       "      <td>Music/Movie/Game</td>\n",
       "      <td>US</td>\n",
       "      <td>3249</td>\n",
       "      <td>5</td>\n",
       "      <td>Mon</td>\n",
       "      <td>0.01</td>\n",
       "      <td>0.01</td>\n",
       "      <td>0</td>\n",
       "    </tr>\n",
       "    <tr>\n",
       "      <th>3</th>\n",
       "      <td>Music/Movie/Game</td>\n",
       "      <td>US</td>\n",
       "      <td>3249</td>\n",
       "      <td>5</td>\n",
       "      <td>Mon</td>\n",
       "      <td>0.01</td>\n",
       "      <td>0.01</td>\n",
       "      <td>0</td>\n",
       "    </tr>\n",
       "    <tr>\n",
       "      <th>4</th>\n",
       "      <td>Music/Movie/Game</td>\n",
       "      <td>US</td>\n",
       "      <td>3249</td>\n",
       "      <td>5</td>\n",
       "      <td>Mon</td>\n",
       "      <td>0.01</td>\n",
       "      <td>0.01</td>\n",
       "      <td>0</td>\n",
       "    </tr>\n",
       "    <tr>\n",
       "      <th>...</th>\n",
       "      <td>...</td>\n",
       "      <td>...</td>\n",
       "      <td>...</td>\n",
       "      <td>...</td>\n",
       "      <td>...</td>\n",
       "      <td>...</td>\n",
       "      <td>...</td>\n",
       "      <td>...</td>\n",
       "    </tr>\n",
       "    <tr>\n",
       "      <th>1967</th>\n",
       "      <td>Automotive</td>\n",
       "      <td>US</td>\n",
       "      <td>2992</td>\n",
       "      <td>5</td>\n",
       "      <td>Sun</td>\n",
       "      <td>359.95</td>\n",
       "      <td>359.95</td>\n",
       "      <td>0</td>\n",
       "    </tr>\n",
       "    <tr>\n",
       "      <th>1968</th>\n",
       "      <td>Automotive</td>\n",
       "      <td>US</td>\n",
       "      <td>21</td>\n",
       "      <td>5</td>\n",
       "      <td>Sat</td>\n",
       "      <td>610.00</td>\n",
       "      <td>300.00</td>\n",
       "      <td>1</td>\n",
       "    </tr>\n",
       "    <tr>\n",
       "      <th>1969</th>\n",
       "      <td>Automotive</td>\n",
       "      <td>US</td>\n",
       "      <td>1400</td>\n",
       "      <td>5</td>\n",
       "      <td>Mon</td>\n",
       "      <td>549.00</td>\n",
       "      <td>549.00</td>\n",
       "      <td>0</td>\n",
       "    </tr>\n",
       "    <tr>\n",
       "      <th>1970</th>\n",
       "      <td>Automotive</td>\n",
       "      <td>US</td>\n",
       "      <td>57</td>\n",
       "      <td>7</td>\n",
       "      <td>Fri</td>\n",
       "      <td>820.00</td>\n",
       "      <td>650.00</td>\n",
       "      <td>1</td>\n",
       "    </tr>\n",
       "    <tr>\n",
       "      <th>1971</th>\n",
       "      <td>Automotive</td>\n",
       "      <td>US</td>\n",
       "      <td>145</td>\n",
       "      <td>7</td>\n",
       "      <td>Sat</td>\n",
       "      <td>999.00</td>\n",
       "      <td>999.00</td>\n",
       "      <td>0</td>\n",
       "    </tr>\n",
       "  </tbody>\n",
       "</table>\n",
       "<p>1972 rows × 8 columns</p>\n",
       "</div>"
      ],
      "text/plain": [
       "              Category currency  sellerRating  Duration endDay  ClosePrice  \\\n",
       "0     Music/Movie/Game       US          3249         5    Mon        0.01   \n",
       "1     Music/Movie/Game       US          3249         5    Mon        0.01   \n",
       "2     Music/Movie/Game       US          3249         5    Mon        0.01   \n",
       "3     Music/Movie/Game       US          3249         5    Mon        0.01   \n",
       "4     Music/Movie/Game       US          3249         5    Mon        0.01   \n",
       "...                ...      ...           ...       ...    ...         ...   \n",
       "1967        Automotive       US          2992         5    Sun      359.95   \n",
       "1968        Automotive       US            21         5    Sat      610.00   \n",
       "1969        Automotive       US          1400         5    Mon      549.00   \n",
       "1970        Automotive       US            57         7    Fri      820.00   \n",
       "1971        Automotive       US           145         7    Sat      999.00   \n",
       "\n",
       "      OpenPrice  Competitive?  \n",
       "0          0.01             0  \n",
       "1          0.01             0  \n",
       "2          0.01             0  \n",
       "3          0.01             0  \n",
       "4          0.01             0  \n",
       "...         ...           ...  \n",
       "1967     359.95             0  \n",
       "1968     300.00             1  \n",
       "1969     549.00             0  \n",
       "1970     650.00             1  \n",
       "1971     999.00             0  \n",
       "\n",
       "[1972 rows x 8 columns]"
      ]
     },
     "execution_count": 10,
     "metadata": {},
     "output_type": "execute_result"
    }
   ],
   "source": [
    "auction = pd.read_csv(\"eBayAuctions.csv\")\n",
    "auction"
   ]
  },
  {
   "cell_type": "markdown",
   "metadata": {},
   "source": [
    "**Data Preprocessing**. (1) Create dummy variables for the categorical predictors. These include `Category` (18 categories), `Currency` (USD, GBP, Euro), `EndDay` (Monday-Sunday), and `Duration` (1, 3, 5, 7, or 10 days). "
   ]
  },
  {
   "cell_type": "code",
   "execution_count": 18,
   "metadata": {},
   "outputs": [
    {
     "data": {
      "text/plain": [
       "Index(['sellerRating', 'ClosePrice', 'OpenPrice', 'Competitive?',\n",
       "       'Category_Antique/Art/Craft', 'Category_Automotive', 'Category_Books',\n",
       "       'Category_Business/Industrial', 'Category_Clothing/Accessories',\n",
       "       'Category_Coins/Stamps', 'Category_Collectibles', 'Category_Computer',\n",
       "       'Category_Electronics', 'Category_EverythingElse',\n",
       "       'Category_Health/Beauty', 'Category_Home/Garden', 'Category_Jewelry',\n",
       "       'Category_Music/Movie/Game', 'Category_Photography',\n",
       "       'Category_Pottery/Glass', 'Category_SportingGoods',\n",
       "       'Category_Toys/Hobbies', 'currency_EUR', 'currency_GBP', 'currency_US',\n",
       "       'Duration_1', 'Duration_3', 'Duration_5', 'Duration_7', 'Duration_10',\n",
       "       'endDay_Fri', 'endDay_Mon', 'endDay_Sat', 'endDay_Sun', 'endDay_Thu',\n",
       "       'endDay_Tue', 'endDay_Wed'],\n",
       "      dtype='object')"
      ]
     },
     "execution_count": 18,
     "metadata": {},
     "output_type": "execute_result"
    }
   ],
   "source": [
    "dummy_auction = pd.get_dummies(auction, columns=[\"Category\", \"currency\", \"Duration\", \"endDay\"])\n",
    "dummy_auction.columns"
   ]
  },
  {
   "cell_type": "markdown",
   "metadata": {},
   "source": [
    "(2) Split the data into training and validation datasets using a 60% : 40% ratio."
   ]
  },
  {
   "cell_type": "code",
   "execution_count": 47,
   "metadata": {},
   "outputs": [],
   "source": [
    "X = dummy_auction.drop(columns = [\"Competitive?\"])\n",
    "y = dummy_auction[\"Competitive?\"]\n",
    "X_train, X_test, y_train, y_test = sklearn.model_selection.train_test_split(X, y, test_size=0.4, random_state = 1234)"
   ]
  },
  {
   "cell_type": "markdown",
   "metadata": {},
   "source": [
    "**Part (a):** Fit a classification tree using all predictors, using the best pruned tree. To avoid overfitting, set the minimum number of observations in a leaf node to 50. Also, set the maximum number of levels to be displayed at seven.  To remain within the limitation of your software, combine some of the categories of categorical predictors.  Write down the results in terms of rules."
   ]
  },
  {
   "cell_type": "code",
   "execution_count": 55,
   "metadata": {},
   "outputs": [],
   "source": [
    "clf1 = sklearn.tree.DecisionTreeClassifier(min_samples_leaf = 50).fit(X_train, y_train)"
   ]
  },
  {
   "cell_type": "code",
   "execution_count": 65,
   "metadata": {},
   "outputs": [
    {
     "name": "stdout",
     "output_type": "stream",
     "text": [
      "1\n"
     ]
    },
    {
     "data": {
      "image/png": "[encoded data removed]",
      "text/plain": [
       "<Figure size 1440x1080 with 1 Axes>"
      ]
     },
     "metadata": {
      "needs_background": "light"
     },
     "output_type": "display_data"
    }
   ],
   "source": [
    "fig, ax = plt.subplots(figsize = (20,15))\n",
    "sklearn.tree.plot_tree(clf1, ax=ax)\n",
    "print(1)"
   ]
  },
  {
   "cell_type": "markdown",
   "metadata": {},
   "source": [
    "**Part (b):** Is this model practical for predicting the outcome of a new auction? "
   ]
  },
  {
   "cell_type": "code",
   "execution_count": null,
   "metadata": {},
   "outputs": [],
   "source": []
  },
  {
   "cell_type": "markdown",
   "metadata": {},
   "source": [
    "**Part (c):** Describe the interesting and uninteresting information that these rules provide."
   ]
  },
  {
   "cell_type": "code",
   "execution_count": null,
   "metadata": {},
   "outputs": [],
   "source": []
  },
  {
   "cell_type": "markdown",
   "metadata": {},
   "source": [
    "**Part (d):** Fit another classification tree (using the best-pruned tree, with a minimum number of observations per leaf node = 50 and maximum allowed number of displayed levels), this time only with predictors that can be used for predicting the outcome of a new auction. Describe the resulting tree in terms of rules. Make sure to report the smallest set of rules required for classification."
   ]
  },
  {
   "cell_type": "code",
   "execution_count": null,
   "metadata": {},
   "outputs": [],
   "source": []
  },
  {
   "cell_type": "markdown",
   "metadata": {},
   "source": [
    "**Part (e):** Plot the resulting tree on a scatterplot: Use the two axes for the two best (quantitative) predictors. Each auction will appear as a point, with coordinates corresponding to its values on those two predictors. Use different colors or symbols to separate competitive and noncompetitive auctions. Draw lines (you can sketch these by hand or use software) at the values that create splits. Does this splitting seem reasonable with respect tothe meaning of the two predictors?  Does it seem to do a good job of separating the two classes?"
   ]
  },
  {
   "cell_type": "code",
   "execution_count": null,
   "metadata": {},
   "outputs": [],
   "source": []
  },
  {
   "cell_type": "markdown",
   "metadata": {},
   "source": [
    "**Part (f):** Examine the classification table for the tree. What can you say about the predictive performance of this model?"
   ]
  },
  {
   "cell_type": "code",
   "execution_count": null,
   "metadata": {},
   "outputs": [],
   "source": []
  },
  {
   "cell_type": "markdown",
   "metadata": {},
   "source": [
    "**Part (g):** Based on this last tree, what can you conclude from these data about the chances of an auction obtaining at least two bids and its relationship to the auction settings set by the seller (duration, opening price, ending day, currency)?  What would you recommend for a seller as the strategy that will most likely lead to a competitive auction?"
   ]
  },
  {
   "cell_type": "code",
   "execution_count": null,
   "metadata": {},
   "outputs": [],
   "source": []
  },
  {
   "cell_type": "markdown",
   "metadata": {},
   "source": [
    "# Spam Data\n",
    "Fit a SVM model to the spamdata and compare the classification results to the tree model given in Section 9.2.5 for the spam data. For example, you might look at measures like sensitivity and specificity. You might also compare the interpretability of the two models."
   ]
  },
  {
   "cell_type": "code",
   "execution_count": null,
   "metadata": {},
   "outputs": [],
   "source": []
  },
  {
   "cell_type": "code",
   "execution_count": null,
   "metadata": {},
   "outputs": [],
   "source": []
  }
 ],
 "metadata": {
  "kernelspec": {
   "display_name": "Python 3",
   "language": "python",
   "name": "python3"
  },
  "language_info": {
   "codemirror_mode": {
    "name": "ipython",
    "version": 3
   },
   "file_extension": ".py",
   "mimetype": "text/x-python",
   "name": "python",
   "nbconvert_exporter": "python",
   "pygments_lexer": "ipython3",
   "version": "3.7.6"
  }
 },
 "nbformat": 4,
 "nbformat_minor": 4
}
