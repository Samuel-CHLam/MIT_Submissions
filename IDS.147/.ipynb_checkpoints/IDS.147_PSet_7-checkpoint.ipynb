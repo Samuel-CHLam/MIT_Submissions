{
 "cells": [
  {
   "cell_type": "markdown",
   "metadata": {},
   "source": [
    "15.077/IDS.147 Problem Set 7 <br>\n",
    "**Name:** Chun-Hei Lam. **ID:** 928931321 <br>\n",
    "**Declaration:** I pledge that the work submitted for this coursework is my own unassisted work unless stated otherwise. <br>\n",
    "**Acknowledgement to:** Harry Yu"
   ]
  },
  {
   "cell_type": "code",
   "execution_count": 29,
   "metadata": {},
   "outputs": [],
   "source": [
    "import tensorflow as tf\n",
    "import pandas as pd\n",
    "import numpy as np\n",
    "import matplotlib.pyplot as plt\n",
    "from sklearn.svm import SVC\n",
    "from sklearn.model_selection import train_test_split"
   ]
  },
  {
   "cell_type": "code",
   "execution_count": null,
   "metadata": {},
   "outputs": [],
   "source": [
    "import tensorflow as tf\n",
    "from tensorflow import keras\n",
    "from tensorflow.keras import layers\n",
    "from tensorflow.keras.models import Sequential, load_model"
   ]
  },
  {
   "cell_type": "markdown",
   "metadata": {},
   "source": [
    "# Spam Data\n",
    "\n",
    "Fit a SVM and Neural Netmodel to the spamdata and compare the classification results to the treemodel given in Section 9.2.5 for the spam data. For example, you might look at measures like sensitivity and specificity.Youmight also compare the interpretability of the three models."
   ]
  },
  {
   "cell_type": "code",
   "execution_count": 20,
   "metadata": {},
   "outputs": [],
   "source": [
    "spam = pd.read_csv(\"spam.txt\", sep = ' ', header = None)"
   ]
  },
  {
   "cell_type": "code",
   "execution_count": 67,
   "metadata": {},
   "outputs": [],
   "source": [
    "X = spam.iloc[:, :-1]\n",
    "y = spam.iloc[:, [-1]]\n",
    "X_train, X_test, y_train, y_test = train_test_split(X, y, test_size=0.2, random_state = 1111)\n",
    "X_train, X_val, y_train, y_val = train_test_split(X_train, y_train, test_size=0.25, random_state = 2222)"
   ]
  },
  {
   "cell_type": "code",
   "execution_count": 84,
   "metadata": {},
   "outputs": [],
   "source": [
    "model = Sequential([\n",
    "    layers.Dense(10000, activation=\"sigmoid\"),\n",
    "#     layers.Dense(20, activation=\"sigmoid\"),\n",
    "    layers.Dense(1, activation=\"sigmoid\"),\n",
    "])"
   ]
  },
  {
   "cell_type": "code",
   "execution_count": 85,
   "metadata": {},
   "outputs": [],
   "source": [
    "model.compile(optimizer=tf.keras.optimizers.SGD(learning_rate=1e-1), \n",
    "              loss='binary_crossentropy',\n",
    "              metrics=['accuracy'])"
   ]
  },
  {
   "cell_type": "code",
   "execution_count": 86,
   "metadata": {},
   "outputs": [
    {
     "name": "stdout",
     "output_type": "stream",
     "text": [
      "Epoch 1/20\n",
      "44/44 [==============================] - 1s 7ms/step - loss: 10.9229 - accuracy: 0.5689\n",
      "Epoch 2/20\n",
      "44/44 [==============================] - 0s 7ms/step - loss: 1.0345 - accuracy: 0.6115\n",
      "Epoch 3/20\n",
      "44/44 [==============================] - 0s 8ms/step - loss: 0.6780 - accuracy: 0.6903\n",
      "Epoch 4/20\n",
      "44/44 [==============================] - 0s 7ms/step - loss: 0.7183 - accuracy: 0.6468\n",
      "Epoch 5/20\n",
      "44/44 [==============================] - 0s 7ms/step - loss: 0.7935 - accuracy: 0.6509\n",
      "Epoch 6/20\n",
      "44/44 [==============================] - 0s 7ms/step - loss: 0.6334 - accuracy: 0.6909\n",
      "Epoch 7/20\n",
      "44/44 [==============================] - 0s 8ms/step - loss: 0.5801 - accuracy: 0.6820\n",
      "Epoch 8/20\n",
      "44/44 [==============================] - 0s 7ms/step - loss: 0.6140 - accuracy: 0.6761\n",
      "Epoch 9/20\n",
      "44/44 [==============================] - 0s 8ms/step - loss: 0.6132 - accuracy: 0.6799\n",
      "Epoch 10/20\n",
      "44/44 [==============================] - 0s 7ms/step - loss: 0.7291 - accuracy: 0.6428\n",
      "Epoch 11/20\n",
      "44/44 [==============================] - 0s 7ms/step - loss: 0.6171 - accuracy: 0.7045\n",
      "Epoch 12/20\n",
      "44/44 [==============================] - 0s 7ms/step - loss: 0.6037 - accuracy: 0.6936\n",
      "Epoch 13/20\n",
      "44/44 [==============================] - 0s 7ms/step - loss: 0.8997 - accuracy: 0.6539\n",
      "Epoch 14/20\n",
      "44/44 [==============================] - 0s 8ms/step - loss: 0.5683 - accuracy: 0.6907\n",
      "Epoch 15/20\n",
      "44/44 [==============================] - 0s 8ms/step - loss: 0.5796 - accuracy: 0.6924\n",
      "Epoch 16/20\n",
      "44/44 [==============================] - 0s 7ms/step - loss: 0.5800 - accuracy: 0.6993\n",
      "Epoch 17/20\n",
      "44/44 [==============================] - 0s 7ms/step - loss: 0.5885 - accuracy: 0.7121\n",
      "Epoch 18/20\n",
      "44/44 [==============================] - 0s 7ms/step - loss: 0.5952 - accuracy: 0.6803\n",
      "Epoch 19/20\n",
      "44/44 [==============================] - 0s 7ms/step - loss: 0.5560 - accuracy: 0.7043\n",
      "Epoch 20/20\n",
      "44/44 [==============================] - 0s 7ms/step - loss: 0.5891 - accuracy: 0.6813\n"
     ]
    },
    {
     "data": {
      "text/plain": [
       "<tensorflow.python.keras.callbacks.History at 0x25dba54c3c8>"
      ]
     },
     "execution_count": 86,
     "metadata": {},
     "output_type": "execute_result"
    }
   ],
   "source": [
    "BATCH_SIZE = 64\n",
    "EPOCHS = 50\n",
    "\n",
    "model.fit(X_train, y_train, batch_size=BATCH_SIZE, epochs=EPOCHS)"
   ]
  },
  {
   "cell_type": "code",
   "execution_count": 83,
   "metadata": {},
   "outputs": [
    {
     "name": "stdout",
     "output_type": "stream",
     "text": [
      "29/29 [==============================] - 0s 2ms/step - loss: 0.7105 - accuracy: 0.6793\n",
      "0.710534393787384 0.679347813129425\n"
     ]
    }
   ],
   "source": [
    "val_loss, val_acc = model.evaluate(X_val, y_val)\n",
    "print(val_loss, val_acc)"
   ]
  },
  {
   "cell_type": "code",
   "execution_count": null,
   "metadata": {},
   "outputs": [],
   "source": []
  }
 ],
 "metadata": {
  "kernelspec": {
   "display_name": "Python 3",
   "language": "python",
   "name": "python3"
  },
  "language_info": {
   "codemirror_mode": {
    "name": "ipython",
    "version": 3
   },
   "file_extension": ".py",
   "mimetype": "text/x-python",
   "name": "python",
   "nbconvert_exporter": "python",
   "pygments_lexer": "ipython3",
   "version": "3.7.6"
  }
 },
 "nbformat": 4,
 "nbformat_minor": 4
}
