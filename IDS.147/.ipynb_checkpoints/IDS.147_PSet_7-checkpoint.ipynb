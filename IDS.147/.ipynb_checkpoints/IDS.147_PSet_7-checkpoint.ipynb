{
 "cells": [
  {
   "cell_type": "markdown",
   "metadata": {},
   "source": [
    "15.077/IDS.147 Problem Set 7 <br>\n",
    "**Name:** Chun-Hei Lam. **ID:** 928931321 <br>\n",
    "**Declaration:** I pledge that the work submitted for this coursework is my own unassisted work unless stated otherwise. <br>\n",
    "**Acknowledgement to:** Harry Yu"
   ]
  },
  {
   "cell_type": "code",
   "execution_count": 9,
   "metadata": {},
   "outputs": [],
   "source": [
    "import tensorflow as tf\n",
    "import pandas as pd\n",
    "import numpy as np\n",
    "import matplotlib.pyplot as plt\n",
    "from sklearn.svm import SVC\n",
    "from sklearn.model_selection import train_test_split\n",
    "import sklearn.cluster\n",
    "from sklearn.preprocessing import StandardScaler"
   ]
  },
  {
   "cell_type": "code",
   "execution_count": 10,
   "metadata": {},
   "outputs": [],
   "source": [
    "import tensorflow as tf\n",
    "from tensorflow import keras\n",
    "from tensorflow.keras import layers\n",
    "from tensorflow.keras.models import Sequential, load_model"
   ]
  },
  {
   "cell_type": "markdown",
   "metadata": {},
   "source": [
    "# Spam Data\n",
    "\n",
    "Fit a SVM and Neural Net model to the spamdata and compare the classification results to the treemodel given in Section 9.2.5 for the spam data. For example, you might look at measures like sensitivity and specificity. Youmight also compare the interpretability of the three models."
   ]
  },
  {
   "cell_type": "code",
   "execution_count": 96,
   "metadata": {},
   "outputs": [],
   "source": [
    "spam = pd.read_csv(\"spam.txt\", sep = ' ', header = None)"
   ]
  },
  {
   "cell_type": "code",
   "execution_count": 110,
   "metadata": {},
   "outputs": [],
   "source": [
    "X = spam.iloc[:, :-1]\n",
    "y = spam.iloc[:, [-1]]\n",
    "scaler = StandardScaler()\n",
    "X = scaler.fit(X).transform(X)\n",
    "X_train_full, X_test, y_train_full, y_test = train_test_split(X, y, test_size=0.2, random_state = 1111)\n",
    "X_train, X_val, y_train, y_val = train_test_split(X_train_full, y_train_full, test_size=0.25, random_state = 2222)"
   ]
  },
  {
   "cell_type": "code",
   "execution_count": 111,
   "metadata": {},
   "outputs": [],
   "source": [
    "# scaler = StandardScaler()\n",
    "# X_train = scaler.fit(X_train).transform(X_train)\n",
    "# X_val = scaler.transform(X_val)\n",
    "# X_test = scaler.transform(X_test)"
   ]
  },
  {
   "cell_type": "code",
   "execution_count": 112,
   "metadata": {},
   "outputs": [
    {
     "name": "stdout",
     "output_type": "stream",
     "text": [
      "87/87 [==============================] - 0s 733us/step - loss: 0.1831 - accuracy: 0.9351\n",
      "29/29 [==============================] - 0s 744us/step - loss: 0.1972 - accuracy: 0.9337\n",
      "[50] 0.18305879831314087 0.9351449012756348 0.19719427824020386 0.9336956739425659\n",
      "87/87 [==============================] - 0s 698us/step - loss: 0.1845 - accuracy: 0.9362\n",
      "29/29 [==============================] - 0s 857us/step - loss: 0.2029 - accuracy: 0.9370\n",
      "[50] 0.18449631333351135 0.9362319111824036 0.20286205410957336 0.936956524848938\n",
      "87/87 [==============================] - 0s 721us/step - loss: 0.1814 - accuracy: 0.9377\n",
      "29/29 [==============================] - 0s 714us/step - loss: 0.1992 - accuracy: 0.9337\n",
      "[50] 0.18142105638980865 0.9376811385154724 0.19920937716960907 0.9336956739425659\n",
      "87/87 [==============================] - 0s 663us/step - loss: 0.1816 - accuracy: 0.9355\n",
      "29/29 [==============================] - 0s 822us/step - loss: 0.1977 - accuracy: 0.9359\n",
      "[50] 0.18164518475532532 0.9355072379112244 0.19769853353500366 0.935869574546814\n",
      "87/87 [==============================] - 0s 709us/step - loss: 0.1847 - accuracy: 0.9362\n",
      "29/29 [==============================] - 0s 857us/step - loss: 0.2028 - accuracy: 0.9348\n",
      "[50] 0.18473787605762482 0.9362319111824036 0.2028319388628006 0.9347826242446899\n"
     ]
    }
   ],
   "source": [
    "for n_nodes in [[50]]*5:\n",
    "    model = Sequential([layers.Dense(i, activation=\"sigmoid\") for i in n_nodes + [1]])\n",
    "    model.compile(optimizer=tf.keras.optimizers.SGD(learning_rate=1e-1), \n",
    "                  loss='binary_crossentropy',\n",
    "                  metrics=['accuracy'])\n",
    "    BATCH_SIZE = 64\n",
    "    EPOCHS = 50\n",
    "    model.fit(X_train, y_train, batch_size=BATCH_SIZE, epochs=EPOCHS, verbose=False)\n",
    "    train_loss, train_acc = model.evaluate(X_train, y_train)\n",
    "    val_loss, val_acc = model.evaluate(X_val, y_val)\n",
    "    print(n_nodes, train_loss, train_acc, val_loss, val_acc)"
   ]
  },
  {
   "cell_type": "code",
   "execution_count": 124,
   "metadata": {},
   "outputs": [
    {
     "name": "stdout",
     "output_type": "stream",
     "text": [
      "115/115 [==============================] - 0s 702us/step - loss: 0.1891 - accuracy: 0.9351\n",
      "29/29 [==============================] - 0s 1ms/step - loss: 0.1892 - accuracy: 0.9240\n",
      "[50] 0.18910756707191467 0.935054361820221 0.18919607996940613 0.9239956736564636\n"
     ]
    },
    {
     "data": {
      "text/plain": [
       "array([[0.56026059, 0.03257329],\n",
       "       [0.04343105, 0.36373507]])"
      ]
     },
     "execution_count": 124,
     "metadata": {},
     "output_type": "execute_result"
    }
   ],
   "source": [
    "n_nodes = [50]\n",
    "model = Sequential([layers.Dense(i, activation=\"sigmoid\") for i in n_nodes + [1]])\n",
    "model.compile(optimizer=tf.keras.optimizers.SGD(learning_rate=1e-1), \n",
    "              loss='binary_crossentropy',\n",
    "              metrics=['accuracy'])\n",
    "model.fit(X_train, y_train, batch_size=BATCH_SIZE, epochs=EPOCHS, verbose=False)\n",
    "train_loss, train_acc = model.evaluate(X_train_full, y_train_full)\n",
    "test_loss, test_acc = model.evaluate(X_test, y_test)\n",
    "print(n_nodes, train_loss, train_acc, test_loss, test_acc)\n",
    "\n",
    "from sklearn.metrics import confusion_matrix\n",
    "confusion_matrix(y_test.values.flat, model(X_test).numpy().flat > .5) / y_test.size"
   ]
  },
  {
   "cell_type": "code",
   "execution_count": null,
   "metadata": {
    "scrolled": false
   },
   "outputs": [],
   "source": [
    "from sklearn.model_selection import GridSearchCV\n",
    "\n",
    "cv_clf = GridSearchCV(SVC(), param_grid = [{\"gamma\": np.logspace(-3, -0, 31)}])\n",
    "cv_clf.fit(X_train_full, y_train_full.values.flat)# clf.score(X_test, y_test)"
   ]
  },
  {
   "cell_type": "code",
   "execution_count": 126,
   "metadata": {},
   "outputs": [
    {
     "data": {
      "text/plain": [
       "(0.9508152173913044, 0.9239956568946797)"
      ]
     },
     "execution_count": 126,
     "metadata": {},
     "output_type": "execute_result"
    }
   ],
   "source": [
    "clf = SVC(gamma = 0.02)\n",
    "clf.fit(X_train_full, y_train_full.values.flat)\n",
    "clf.score(X_train_full, y_train_full.values.flat), clf.score(X_test, y_test.values.flat)"
   ]
  },
  {
   "cell_type": "code",
   "execution_count": 127,
   "metadata": {},
   "outputs": [
    {
     "data": {
      "text/plain": [
       "array([[0.56786102, 0.02497286],\n",
       "       [0.05103149, 0.35613464]])"
      ]
     },
     "execution_count": 127,
     "metadata": {},
     "output_type": "execute_result"
    }
   ],
   "source": [
    "from sklearn.metrics import confusion_matrix\n",
    "confusion_matrix(y_test.values.flat, clf.predict(X_test)) / y_test.size"
   ]
  },
  {
   "cell_type": "markdown",
   "metadata": {},
   "source": [
    "# Pharmaceutical Industry\n",
    "\n",
    "An equities analyst is studying the pharmaceutical industry and would like your help inexploring and understanding the financial data collected by her firm.  Her main objective is to understand the structure of the pharmaceutical industry using some basic financial measures. Financial data gathered on 21 firms in the pharmaceutical industry are available in the file posted on Canvas. "
   ]
  },
  {
   "cell_type": "code",
   "execution_count": 129,
   "metadata": {},
   "outputs": [],
   "source": [
    "pharm = pd.read_csv(\"./pharmaceuticals.csv\")"
   ]
  },
  {
   "cell_type": "code",
   "execution_count": 214,
   "metadata": {},
   "outputs": [],
   "source": [
    "scaler = StandardScaler()\n",
    "X_orig = pharm.select_dtypes(np.float)\n",
    "X = scaler.fit_transform(X_orig)"
   ]
  },
  {
   "cell_type": "markdown",
   "metadata": {},
   "source": [
    "For each firm, the following variables are recorded:\n",
    "\n",
    "1. Market capitalization (in billions of dollars)\n",
    "2. Beta\n",
    "3. Price/earnings ratio \n",
    "4. Return on equity \n",
    "5. Return on assets \n",
    "6. Asset turnover \n",
    "7. Leverage \n",
    "8. Estimated revenue growth \n",
    "9. Net profit margin\n",
    "10. Median recommendation (across major brokerages)\n",
    "11. Location of firm’s headquarters\n",
    "12. Stock exchange on which the firm is listed\n",
    "\n",
    "Use cluster analysis to explore and analyze the given dataset as follows:"
   ]
  },
  {
   "cell_type": "markdown",
   "metadata": {},
   "source": [
    "**Part (a):** Use only the quantitative variables (1 to 9) to cluster the 21 firms. Justify the various choices made in conducting the cluster analysis, such as weights accorded different variables, the specific clustering algorithm/s used, the numberof clusters formed, and so on."
   ]
  },
  {
   "cell_type": "markdown",
   "metadata": {},
   "source": [
    "*Solution. As pointed out in recitation, it seems like the Ward's algorithm is the most robust hierachical clustering algorithm, and we are using it here.*"
   ]
  },
  {
   "cell_type": "code",
   "execution_count": 145,
   "metadata": {},
   "outputs": [],
   "source": [
    "from sklearn.cluster import AgglomerativeClustering"
   ]
  },
  {
   "cell_type": "markdown",
   "metadata": {},
   "source": [
    "**Part (b):** Interpret the clusterswith respect to the quantitative variables that were used in forming the clusters."
   ]
  },
  {
   "cell_type": "code",
   "execution_count": 146,
   "metadata": {},
   "outputs": [],
   "source": [
    "from sklearn.pipeline import make_pipeline"
   ]
  },
  {
   "cell_type": "code",
   "execution_count": 207,
   "metadata": {
    "scrolled": true
   },
   "outputs": [],
   "source": [
    "wgvs = []\n",
    "for i in range(1, 15):\n",
    "    ward = AgglomerativeClustering(n_clusters=i, compute_distances=True).fit(X)\n",
    "    labels = ward.fit_predict(X)\n",
    "    wgvs.append(within_group_variance(X, labels))"
   ]
  },
  {
   "cell_type": "code",
   "execution_count": 208,
   "metadata": {},
   "outputs": [],
   "source": [
    "within_group_variance = lambda X, labels: (pd.Series(list(X), index = labels) - pd.Series(list(X)).groupby(labels).apply(np.mean)).apply(lambda i: (i**2).sum()).sum()"
   ]
  },
  {
   "cell_type": "code",
   "execution_count": 209,
   "metadata": {},
   "outputs": [
    {
     "data": {
      "text/plain": [
       "[<matplotlib.lines.Line2D at 0x2583e528448>]"
      ]
     },
     "execution_count": 209,
     "metadata": {},
     "output_type": "execute_result"
    },
    {
     "data": {
      "image/png": "[encoded data removed]",
      "text/plain": [
       "<Figure size 432x288 with 1 Axes>"
      ]
     },
     "metadata": {
      "needs_background": "light"
     },
     "output_type": "display_data"
    }
   ],
   "source": [
    "plt.plot(wgvs)"
   ]
  },
  {
   "cell_type": "code",
   "execution_count": 243,
   "metadata": {},
   "outputs": [
    {
     "data": {
      "text/html": [
       "<div>\n",
       "<style scoped>\n",
       "    .dataframe tbody tr th:only-of-type {\n",
       "        vertical-align: middle;\n",
       "    }\n",
       "\n",
       "    .dataframe tbody tr th {\n",
       "        vertical-align: top;\n",
       "    }\n",
       "\n",
       "    .dataframe thead th {\n",
       "        text-align: right;\n",
       "    }\n",
       "</style>\n",
       "<table border=\"1\" class=\"dataframe\">\n",
       "  <thead>\n",
       "    <tr style=\"text-align: right;\">\n",
       "      <th></th>\n",
       "      <th>Symbol</th>\n",
       "      <th>Name</th>\n",
       "      <th>Market_Cap</th>\n",
       "      <th>Beta</th>\n",
       "      <th>PE_Ratio</th>\n",
       "      <th>ROE</th>\n",
       "      <th>ROA</th>\n",
       "      <th>Asset_Turnover</th>\n",
       "      <th>Leverage</th>\n",
       "      <th>Rev_Growth</th>\n",
       "      <th>Net_Profit_Margin</th>\n",
       "      <th>Median_Recommendation</th>\n",
       "      <th>Location</th>\n",
       "      <th>Exchange</th>\n",
       "    </tr>\n",
       "  </thead>\n",
       "  <tbody>\n",
       "    <tr>\n",
       "      <th>0</th>\n",
       "      <td>AM,AE,CT,EN,IX,MX,WI</td>\n",
       "      <td>Ac,As,Cc,Ec,In,Mn,W.</td>\n",
       "      <td>0.4,0.8,1.2,2.6,3.3,6.3,47.2</td>\n",
       "      <td>0.2,0.3,0.5,0.7,0.8,0.8,1.1</td>\n",
       "      <td>3.6,18.4,19.9,20.1,20.7,26.0,28.6</td>\n",
       "      <td>10.2,11.2,14.9,15.1,21.4,21.8,24.1</td>\n",
       "      <td>4.3,5.1,5.4,6.8,6.8,7.5,7.8</td>\n",
       "      <td>0.3,0.3,0.5,0.6,0.6,0.6,0.9</td>\n",
       "      <td>0.2,0.3,0.3,0.9,1.1,1.4,3.5</td>\n",
       "      <td>6.4,7.0,14.0,26.8,29.2,30.4,34.2</td>\n",
       "      <td>7.5,11.0,11.2,12.9,13.3,15.1,21.3</td>\n",
       "      <td>Hd,My,My,My,Ml,Ml,Sy</td>\n",
       "      <td>FE,ID,UK,US,US,US,US</td>\n",
       "      <td>AX,NQ,NE,NE,NE,NE,NE</td>\n",
       "    </tr>\n",
       "    <tr>\n",
       "      <th>1</th>\n",
       "      <td>AT,AN,BY,LY,NS,SP,WE</td>\n",
       "      <td>As,AC,By,Ey,NG,Sn,Wh</td>\n",
       "      <td>34.1,48.2,51.3,67.6,68.4,73.8,96.7</td>\n",
       "      <td>0.2,0.2,0.3,0.5,0.5,0.5,0.6</td>\n",
       "      <td>13.1,13.9,18.9,21.5,21.6,24.7,27.9</td>\n",
       "      <td>17.9,22.6,26.4,27.4,31.0,34.8,54.9</td>\n",
       "      <td>11.2,11.8,13.3,13.4,13.5,15.1,15.4</td>\n",
       "      <td>0.5,0.6,0.6,0.7,0.8,0.9,0.9</td>\n",
       "      <td>0.0,0.0,0.1,0.4,0.5,0.6,1.1</td>\n",
       "      <td>-2.7,0.4,2.7,6.2,7.5,8.6,15.0</td>\n",
       "      <td>16.1,17.6,18.0,20.6,22.4,23.4,25.5</td>\n",
       "      <td>Hd,Hd,Hd,Hd,My,Ml,Ml</td>\n",
       "      <td>SD,UK,US,US,US,US,US</td>\n",
       "      <td>NE,NE,NE,NE,NE,NE,NE</td>\n",
       "    </tr>\n",
       "    <tr>\n",
       "      <th>2</th>\n",
       "      <td>AN,BY,PA</td>\n",
       "      <td>A.,BG,Pn</td>\n",
       "      <td>7.6,16.9,56.2</td>\n",
       "      <td>0.4,0.4,1.1</td>\n",
       "      <td>27.9,56.5,82.5</td>\n",
       "      <td>3.9,12.9,13.5</td>\n",
       "      <td>1.4,5.5,5.7</td>\n",
       "      <td>0.6,0.6,0.9</td>\n",
       "      <td>0.0,0.3,0.6</td>\n",
       "      <td>-3.2,9.2,15.0</td>\n",
       "      <td>2.6,5.5,7.3</td>\n",
       "      <td>Hd,Hd,My</td>\n",
       "      <td>CA,GY,US</td>\n",
       "      <td>NE,NE,NE</td>\n",
       "    </tr>\n",
       "    <tr>\n",
       "      <th>3</th>\n",
       "      <td>GK,JJ,MK,PE</td>\n",
       "      <td>Gc,Jn,M.,Pc</td>\n",
       "      <td>122.1,132.6,173.9,199.5</td>\n",
       "      <td>0.3,0.5,0.5,0.7</td>\n",
       "      <td>18.0,18.9,23.6,28.4</td>\n",
       "      <td>28.6,40.6,45.6,62.9</td>\n",
       "      <td>15.0,16.3,19.2,20.3</td>\n",
       "      <td>0.8,0.9,1.0,1.1</td>\n",
       "      <td>0.1,0.2,0.3,0.3</td>\n",
       "      <td>9.4,17.4,21.9,25.5</td>\n",
       "      <td>14.1,17.9,21.1,25.2</td>\n",
       "      <td>Hd,Hd,My,My</td>\n",
       "      <td>UK,US,US,US</td>\n",
       "      <td>NE,NE,NE,NE</td>\n",
       "    </tr>\n",
       "  </tbody>\n",
       "</table>\n",
       "</div>"
      ],
      "text/plain": [
       "                 Symbol                  Name  \\\n",
       "0  AM,AE,CT,EN,IX,MX,WI  Ac,As,Cc,Ec,In,Mn,W.   \n",
       "1  AT,AN,BY,LY,NS,SP,WE  As,AC,By,Ey,NG,Sn,Wh   \n",
       "2              AN,BY,PA              A.,BG,Pn   \n",
       "3           GK,JJ,MK,PE           Gc,Jn,M.,Pc   \n",
       "\n",
       "                           Market_Cap                         Beta  \\\n",
       "0        0.4,0.8,1.2,2.6,3.3,6.3,47.2  0.2,0.3,0.5,0.7,0.8,0.8,1.1   \n",
       "1  34.1,48.2,51.3,67.6,68.4,73.8,96.7  0.2,0.2,0.3,0.5,0.5,0.5,0.6   \n",
       "2                       7.6,16.9,56.2                  0.4,0.4,1.1   \n",
       "3             122.1,132.6,173.9,199.5              0.3,0.5,0.5,0.7   \n",
       "\n",
       "                             PE_Ratio                                 ROE  \\\n",
       "0   3.6,18.4,19.9,20.1,20.7,26.0,28.6  10.2,11.2,14.9,15.1,21.4,21.8,24.1   \n",
       "1  13.1,13.9,18.9,21.5,21.6,24.7,27.9  17.9,22.6,26.4,27.4,31.0,34.8,54.9   \n",
       "2                      27.9,56.5,82.5                       3.9,12.9,13.5   \n",
       "3                 18.0,18.9,23.6,28.4                 28.6,40.6,45.6,62.9   \n",
       "\n",
       "                                  ROA               Asset_Turnover  \\\n",
       "0         4.3,5.1,5.4,6.8,6.8,7.5,7.8  0.3,0.3,0.5,0.6,0.6,0.6,0.9   \n",
       "1  11.2,11.8,13.3,13.4,13.5,15.1,15.4  0.5,0.6,0.6,0.7,0.8,0.9,0.9   \n",
       "2                         1.4,5.5,5.7                  0.6,0.6,0.9   \n",
       "3                 15.0,16.3,19.2,20.3              0.8,0.9,1.0,1.1   \n",
       "\n",
       "                      Leverage                        Rev_Growth  \\\n",
       "0  0.2,0.3,0.3,0.9,1.1,1.4,3.5  6.4,7.0,14.0,26.8,29.2,30.4,34.2   \n",
       "1  0.0,0.0,0.1,0.4,0.5,0.6,1.1     -2.7,0.4,2.7,6.2,7.5,8.6,15.0   \n",
       "2                  0.0,0.3,0.6                     -3.2,9.2,15.0   \n",
       "3              0.1,0.2,0.3,0.3                9.4,17.4,21.9,25.5   \n",
       "\n",
       "                    Net_Profit_Margin Median_Recommendation  \\\n",
       "0   7.5,11.0,11.2,12.9,13.3,15.1,21.3  Hd,My,My,My,Ml,Ml,Sy   \n",
       "1  16.1,17.6,18.0,20.6,22.4,23.4,25.5  Hd,Hd,Hd,Hd,My,Ml,Ml   \n",
       "2                         2.6,5.5,7.3              Hd,Hd,My   \n",
       "3                 14.1,17.9,21.1,25.2           Hd,Hd,My,My   \n",
       "\n",
       "               Location              Exchange  \n",
       "0  FE,ID,UK,US,US,US,US  AX,NQ,NE,NE,NE,NE,NE  \n",
       "1  SD,UK,US,US,US,US,US  NE,NE,NE,NE,NE,NE,NE  \n",
       "2              CA,GY,US              NE,NE,NE  \n",
       "3           UK,US,US,US           NE,NE,NE,NE  "
      ]
     },
     "execution_count": 243,
     "metadata": {},
     "output_type": "execute_result"
    }
   ],
   "source": [
    "ward = AgglomerativeClustering(n_clusters=4, compute_distances=True).fit(X)\n",
    "labels = ward.fit_predict(X)\n",
    "pharm.groupby(labels).apply(lambda i: i.apply(lambda j: \",\".join(f\"{k:.1f}\" if not isinstance(k, str) else k[:1]+k[-1] for k in sorted(j)), axis = 0))#.style.background_gradient().format(\"{:.2f}\")"
   ]
  },
  {
   "cell_type": "markdown",
   "metadata": {},
   "source": [
    "- Market_Cap: 3 is \n",
    "- PE_Ratio: 2 (overpriced)\n",
    "- ROA: sorted in ascending order."
   ]
  },
  {
   "cell_type": "code",
   "execution_count": 172,
   "metadata": {},
   "outputs": [
    {
     "data": {
      "image/png": "[encoded data removed]",
      "text/plain": [
       "<Figure size 432x288 with 1 Axes>"
      ]
     },
     "metadata": {
      "needs_background": "light"
     },
     "output_type": "display_data"
    }
   ],
   "source": [
    "from scipy.cluster.hierarchy import dendrogram\n",
    "\n",
    "def plot_dendrogram(model, **kwargs):\n",
    "    # Create linkage matrix and then plot the dendrogram\n",
    "\n",
    "    # create the counts of samples under each node\n",
    "    counts = np.zeros(model.children_.shape[0])\n",
    "    n_samples = len(model.labels_)\n",
    "    for i, merge in enumerate(model.children_):\n",
    "        current_count = 0\n",
    "        for child_idx in merge:\n",
    "            if child_idx < n_samples:\n",
    "                current_count += 1  # leaf node\n",
    "            else:\n",
    "                current_count += counts[child_idx - n_samples]\n",
    "        counts[i] = current_count\n",
    "\n",
    "    linkage_matrix = np.column_stack([model.children_, model.distances_,\n",
    "                                      counts]).astype(float)\n",
    "\n",
    "    # Plot the corresponding dendrogram\n",
    "    dendrogram(linkage_matrix, **kwargs)\n",
    "\n",
    "plt.title('Hierarchical Clustering Dendrogram')\n",
    "# plot the top three levels of the dendrogram\n",
    "plot_dendrogram(ward, color_threshold=6) # , truncate_mode='level', p=3\n",
    "plt.xlabel(\"Number of points in node (or index of point if no parenthesis).\")\n",
    "plt.show()"
   ]
  },
  {
   "cell_type": "markdown",
   "metadata": {},
   "source": [
    "**Part (c):** Is there a pattern in the clusters with respect to the qualitative variables (10 to 12) (those not used in forming the clusters)?"
   ]
  },
  {
   "cell_type": "code",
   "execution_count": 238,
   "metadata": {},
   "outputs": [
    {
     "data": {
      "text/plain": [
       "array([1, 2, 0, 1, 0, 2, 1, 0, 0, 1, 3, 0, 3, 0, 3, 1, 3, 2, 1, 0, 1],\n",
       "      dtype=int64)"
      ]
     },
     "execution_count": 238,
     "metadata": {},
     "output_type": "execute_result"
    }
   ],
   "source": [
    "labels"
   ]
  },
  {
   "cell_type": "markdown",
   "metadata": {},
   "source": [
    "**Part (d):** Provide an appropriate name for each cluster using any or all of the variables in the dataset."
   ]
  },
  {
   "cell_type": "markdown",
   "metadata": {},
   "source": [
    "*Solution:*"
   ]
  }
 ],
 "metadata": {
  "kernelspec": {
   "display_name": "Python 3",
   "language": "python",
   "name": "python3"
  },
  "language_info": {
   "codemirror_mode": {
    "name": "ipython",
    "version": 3
   },
   "file_extension": ".py",
   "mimetype": "text/x-python",
   "name": "python",
   "nbconvert_exporter": "python",
   "pygments_lexer": "ipython3",
   "version": "3.7.6"
  }
 },
 "nbformat": 4,
 "nbformat_minor": 4
}
