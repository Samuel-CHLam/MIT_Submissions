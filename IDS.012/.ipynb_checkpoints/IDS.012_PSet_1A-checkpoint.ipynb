{
 "cells": [
  {
   "cell_type": "markdown",
   "metadata": {},
   "source": [
    "IDS.012 Problem Set 1 Part A <br>\n",
    "**Name:** Chun-Hei Lam. **ID:** 928931321 <br>\n",
    "**Declaration:** I pledge that the work submitted for this coursework is my ow unassisted work unless stated otherwise. <br>\n",
    "**Collaborators:** None"
   ]
  },
  {
   "cell_type": "code",
   "execution_count": 23,
   "metadata": {},
   "outputs": [],
   "source": [
    "import numpy as np\n",
    "from scipy.stats import chi2\n",
    "from scipy.special import xlogy\n",
    "import pandas as pd\n",
    "import matplotlib.pyplot as plt"
   ]
  },
  {
   "cell_type": "markdown",
   "metadata": {},
   "source": [
    "# The Salk Vaccine Field Trial\n",
    "\n",
    "The first polio epidemic hit the United States in 1916.  By the 1950s several vaccines against the disease had been discovered. The one developed by Jonas Salk seemed the most promising inlaboratory trials. By 1954, the National Foundation for Infantile Paralysis (NFIP) was ready to try the vaccine in the real world. They ran a controlled experiment to analyze the effectiveness of the vaccine. The data is shown in the table below (grade refers to educational stage). The experiment was later repeated as a randomized controlled double-blind experiment. This data isshown in the second table below. <br>\n",
    "\n",
    "**NFIP Study:** <br>\n",
    "\n",
    "| Group | Size | Polio rate per 100,000 |\n",
    "| :- | :-: | :-: |\n",
    "| Grade 2 (vaccine) | 225000 | 25 |\n",
    "| Grade 1 and 3 (no vaccine) | 725000 | 54 |\n",
    "| Grade 2 (no consent) | 125000 | 44 |\n",
    "\n",
    "**Randomised Controlled Double-blinded Experiment:** <br>\n",
    "\n",
    "| Group | Size | Polio rate per 100,000 |\n",
    "| :- | :-: | :-: |\n",
    "| Treatment (vaccine) | 200000 | 28 |\n",
    "| Control (salt injection) | 200000 | 71 |\n",
    "| No consent | 350000 | 46 |"
   ]
  },
  {
   "cell_type": "markdown",
   "metadata": {},
   "source": [
    "**Part (a):** Compare the two studies and comment on the differences.\n",
    "\n",
    "*Solution. It is clear that in both studies, the effect of vaccines were assessed by comparing the Polio rate between those who were treated with vaccine and those who weren't. The main difference is that in NFIP study, participants (who had given consent)  were conscious of whether they have been vaccinated since they were assigned to experimental groups by their grades; while participants in the another study were not conscious of whether they have been vaccinated since they were assigned to experimental groups randomly, and all participants were injected.*"
   ]
  },
  {
   "cell_type": "markdown",
   "metadata": {},
   "source": [
    "**Part (b):** Which numbers show the effectiveness of the vaccine?\n",
    "\n",
    "*Solution. Polio rate per 100,000*"
   ]
  },
  {
   "cell_type": "markdown",
   "metadata": {},
   "source": [
    "**Part (c):** In the two studies neither the control groups nor the no-consent groups got the vaccine.  Yet the no-consent groups had a lower rate of polio.  Why?\n",
    "\n",
    "*Solution. I don't think there is a definite explanation. Remember that the event of people getting infected by Polio is random, and it is possible that polio rates in no-vaccine groups were greater than polio rates in no-consent group purely by chance. There might be other explanations (e.g. contaminated salt water XD) but needed further evidence.*"
   ]
  },
  {
   "cell_type": "markdown",
   "metadata": {},
   "source": [
    "**Part (d):** Polio is an infectious disease. The NFIP study was not done blind. Could this bias the results?"
   ]
  },
  {
   "cell_type": "markdown",
   "metadata": {},
   "source": [
    "*Solution. The main objective of the experiments were to see if the vaccine worked. If the study was not done blind, participants might be not infected just because they believed that the treatment work (this is known as Placebo effect). This could lead to underestimation of actual Polio rate for an untreated person.*"
   ]
  },
  {
   "cell_type": "markdown",
   "metadata": {},
   "source": [
    "**Part (e):** In the randomized controlled trial the children whose parents refused to participate in the trial got polio at the rate of 46 per 100,000. On the other hand, the children whose parents consented to participate got polio  at a slighter higher rate of 49 per 100,000 (treatment group and control group taken together). On the basis of these numbers, in the following year some parents refused to allow their children to participate in the experiment and be exposed to this higher risk of polio. Were they right?\n",
    "\n",
    "*Solution: I would say this is an irrational decision. Refusing to be vaccinated by the fact that children with parents' consent had higher rate of infection implies the assuming that each child with parents' consent were **equally likely** to be infected by Polio, which is definitely not true!*"
   ]
  },
  {
   "cell_type": "markdown",
   "metadata": {},
   "source": [
    "# NASA Compton Gamma Ray Observatory Data"
   ]
  },
  {
   "cell_type": "markdown",
   "metadata": {},
   "source": [
    "The file `gamma-ray` contains a small quantity of data collected from the Compton Gamma Ray Observatory, a satellite launched by NASA in 1991 (http://cossc.gsfc.nasa.gov/). For  each  of 100 sequential time intervals of variable lengths (given in seconds), the number of gamma rays originating in a particular area of the sky was recorded. **You would like to check the assumption that the emission rate is constant.**"
   ]
  },
  {
   "cell_type": "code",
   "execution_count": 2,
   "metadata": {},
   "outputs": [
    {
     "data": {
      "text/html": [
       "<div>\n",
       "<style scoped>\n",
       "    .dataframe tbody tr th:only-of-type {\n",
       "        vertical-align: middle;\n",
       "    }\n",
       "\n",
       "    .dataframe tbody tr th {\n",
       "        vertical-align: top;\n",
       "    }\n",
       "\n",
       "    .dataframe thead th {\n",
       "        text-align: right;\n",
       "    }\n",
       "</style>\n",
       "<table border=\"1\" class=\"dataframe\">\n",
       "  <thead>\n",
       "    <tr style=\"text-align: right;\">\n",
       "      <th></th>\n",
       "      <th>seconds</th>\n",
       "      <th>counts</th>\n",
       "    </tr>\n",
       "  </thead>\n",
       "  <tbody>\n",
       "    <tr>\n",
       "      <th>0</th>\n",
       "      <td>116.0</td>\n",
       "      <td>0.0</td>\n",
       "    </tr>\n",
       "    <tr>\n",
       "      <th>1</th>\n",
       "      <td>112.0</td>\n",
       "      <td>0.0</td>\n",
       "    </tr>\n",
       "    <tr>\n",
       "      <th>2</th>\n",
       "      <td>160.0</td>\n",
       "      <td>0.0</td>\n",
       "    </tr>\n",
       "    <tr>\n",
       "      <th>3</th>\n",
       "      <td>51.5</td>\n",
       "      <td>0.0</td>\n",
       "    </tr>\n",
       "    <tr>\n",
       "      <th>4</th>\n",
       "      <td>102.0</td>\n",
       "      <td>1.0</td>\n",
       "    </tr>\n",
       "  </tbody>\n",
       "</table>\n",
       "</div>"
      ],
      "text/plain": [
       "   seconds  counts\n",
       "0    116.0     0.0\n",
       "1    112.0     0.0\n",
       "2    160.0     0.0\n",
       "3     51.5     0.0\n",
       "4    102.0     1.0"
      ]
     },
     "execution_count": 2,
     "metadata": {},
     "output_type": "execute_result"
    }
   ],
   "source": [
    "data = pd.read_csv(\"./PSet1_Data/gamma-ray.csv\")\n",
    "data.rename(columns={'count':'counts'}, inplace=True) # to make lives easier\n",
    "data.head(5)"
   ]
  },
  {
   "cell_type": "markdown",
   "metadata": {},
   "source": [
    "**Part (a):** What is a good model for such data?\n",
    "\n",
    "*Solution: Let's say $Y_i, i=0,...,99$ is the number of gamma rays in an observation. A plausible model is $Y_i \\overset{\\text{indep}}{\\sim} \\text{Po}(\\lambda_i \\ell_i)$, where $\\lambda_i$ is (unknown but constant) emission rate and $\\ell_i$ is the length of observation in seconds.*"
   ]
  },
  {
   "cell_type": "markdown",
   "metadata": {},
   "source": [
    "**Part (b):** Describe the null hypothesis $H_0$ and the alternative $H_1$.\n",
    "\n",
    "*Solution: $H_0:\\, \\lambda_0=...=\\lambda_{99} \\, (=\\lambda)$ and $H_1:$ not all the $\\lambda_i$'s are equal.*"
   ]
  },
  {
   "cell_type": "markdown",
   "metadata": {},
   "source": [
    "**Part (c):** What is (are) the most plausible parameter value(s) for the null model given the observations? Calculate the maximum likelihood estimate(s) (MLE) of the parameter(s). Compute the estimator(s) for these parameter(s) from the data and report the resulting value(s).\n",
    "\n",
    "*Solution: To compute MLE, notice the likelihood is\n",
    "\\begin{equation}\n",
    "L(\\lambda ; y_0,...,y_{99}) = \\prod_{i=0}^{99} \\frac{\\exp(-\\lambda \\ell_i) (\\lambda \\ell_i)^{y_i}}{y_i!}\n",
    "\\end{equation}\n",
    "Thus the log-likelihood is \n",
    "\\begin{equation}\n",
    "\\ell(\\lambda) := \\ln L(\\lambda; y_0,...,y_{99}) =\n",
    "-\\lambda \\underbrace{\\sum_{i=0}^{99} \\ell_i}_{:=A>0} + \\ln \\lambda \\underbrace{\\sum_{i=0}^{99} y_i}_{:=B>0} + \\underbrace{\\sum_{i=0}^{99} \\left( y_i \\ln \\ell_i - \\ln y_i!\\right) }_{:=C>0} = -A\\lambda + B \\ln \\lambda + C\n",
    "\\end{equation}\n",
    "notice $\\ell'(\\lambda)=B/\\lambda - A$ and $\\ell''(\\lambda)=-B/\\lambda^2$. This indicates that the MLE is \\begin{equation}\n",
    "\\hat{\\lambda}_{\\text{MLE}} = \\frac{B}{A} = \\frac{\\sum_{i=0}^{99} y_i}{\\sum_{i=0}^{99} \\ell_i} = \\frac{\\text{\"total count\"}}{\\text{\"total duration\"}}\\end{equation}\n",
    "The following is the calculation.*"
   ]
  },
  {
   "cell_type": "code",
   "execution_count": 3,
   "metadata": {},
   "outputs": [
    {
     "data": {
      "text/plain": [
       "0.0038808514969907487"
      ]
     },
     "execution_count": 3,
     "metadata": {},
     "output_type": "execute_result"
    }
   ],
   "source": [
    "MLE_null = sum(data.counts) / sum(data.seconds)\n",
    "MLE_null"
   ]
  },
  {
   "cell_type": "markdown",
   "metadata": {},
   "source": [
    "**Part (d):** What is(are) the most plausible parameter value(s) for the alternative model given the observations? Calculate the MLE(s). Compute the estimator(s) for the parameter(s) from the data (you do not need to provide the value(s)).\n",
    "\n",
    "*Solution. In this case each likelihood can be maximised separately due to independence. Notice that \n",
    "\\begin{equation}\n",
    "\\ell(\\lambda) := \\ln L(\\lambda; y_0,...,y_{99}) = \\sum_{i=0}^{99} \\left( -\\lambda_i \\ell_i + y_i \\ln \\lambda_i + y_i \\ln \\ell_i - \\ln y_i! \\right)\n",
    "\\end{equation}\n",
    "Each term in the sum can be minimised individually. By previous calculation, $\\hat{\\lambda}_{i,\\text{MLE}} = y_i / \\ell_i$.*"
   ]
  },
  {
   "cell_type": "code",
   "execution_count": 4,
   "metadata": {},
   "outputs": [
    {
     "data": {
      "text/html": [
       "<div>\n",
       "<style scoped>\n",
       "    .dataframe tbody tr th:only-of-type {\n",
       "        vertical-align: middle;\n",
       "    }\n",
       "\n",
       "    .dataframe tbody tr th {\n",
       "        vertical-align: top;\n",
       "    }\n",
       "\n",
       "    .dataframe thead th {\n",
       "        text-align: right;\n",
       "    }\n",
       "</style>\n",
       "<table border=\"1\" class=\"dataframe\">\n",
       "  <thead>\n",
       "    <tr style=\"text-align: right;\">\n",
       "      <th></th>\n",
       "      <th>seconds</th>\n",
       "      <th>counts</th>\n",
       "      <th>MLE under H1</th>\n",
       "    </tr>\n",
       "  </thead>\n",
       "  <tbody>\n",
       "    <tr>\n",
       "      <th>0</th>\n",
       "      <td>116.0</td>\n",
       "      <td>0.0</td>\n",
       "      <td>0.000000</td>\n",
       "    </tr>\n",
       "    <tr>\n",
       "      <th>1</th>\n",
       "      <td>112.0</td>\n",
       "      <td>0.0</td>\n",
       "      <td>0.000000</td>\n",
       "    </tr>\n",
       "    <tr>\n",
       "      <th>2</th>\n",
       "      <td>160.0</td>\n",
       "      <td>0.0</td>\n",
       "      <td>0.000000</td>\n",
       "    </tr>\n",
       "    <tr>\n",
       "      <th>3</th>\n",
       "      <td>51.5</td>\n",
       "      <td>0.0</td>\n",
       "      <td>0.000000</td>\n",
       "    </tr>\n",
       "    <tr>\n",
       "      <th>4</th>\n",
       "      <td>102.0</td>\n",
       "      <td>1.0</td>\n",
       "      <td>0.009804</td>\n",
       "    </tr>\n",
       "    <tr>\n",
       "      <th>...</th>\n",
       "      <td>...</td>\n",
       "      <td>...</td>\n",
       "      <td>...</td>\n",
       "    </tr>\n",
       "    <tr>\n",
       "      <th>95</th>\n",
       "      <td>38.7</td>\n",
       "      <td>1.0</td>\n",
       "      <td>0.025840</td>\n",
       "    </tr>\n",
       "    <tr>\n",
       "      <th>96</th>\n",
       "      <td>41.8</td>\n",
       "      <td>0.0</td>\n",
       "      <td>0.000000</td>\n",
       "    </tr>\n",
       "    <tr>\n",
       "      <th>97</th>\n",
       "      <td>81.7</td>\n",
       "      <td>0.0</td>\n",
       "      <td>0.000000</td>\n",
       "    </tr>\n",
       "    <tr>\n",
       "      <th>98</th>\n",
       "      <td>88.3</td>\n",
       "      <td>0.0</td>\n",
       "      <td>0.000000</td>\n",
       "    </tr>\n",
       "    <tr>\n",
       "      <th>99</th>\n",
       "      <td>37.4</td>\n",
       "      <td>0.0</td>\n",
       "      <td>0.000000</td>\n",
       "    </tr>\n",
       "  </tbody>\n",
       "</table>\n",
       "<p>100 rows × 3 columns</p>\n",
       "</div>"
      ],
      "text/plain": [
       "    seconds  counts  MLE under H1\n",
       "0     116.0     0.0      0.000000\n",
       "1     112.0     0.0      0.000000\n",
       "2     160.0     0.0      0.000000\n",
       "3      51.5     0.0      0.000000\n",
       "4     102.0     1.0      0.009804\n",
       "..      ...     ...           ...\n",
       "95     38.7     1.0      0.025840\n",
       "96     41.8     0.0      0.000000\n",
       "97     81.7     0.0      0.000000\n",
       "98     88.3     0.0      0.000000\n",
       "99     37.4     0.0      0.000000\n",
       "\n",
       "[100 rows x 3 columns]"
      ]
     },
     "execution_count": 4,
     "metadata": {},
     "output_type": "execute_result"
    }
   ],
   "source": [
    "MLE_alt = data.counts / data.seconds\n",
    "MLE_alt.name = \"MLE under H1\"\n",
    "data_new = pd.concat([data, MLE_alt], axis=1)\n",
    "data_new"
   ]
  },
  {
   "cell_type": "markdown",
   "metadata": {},
   "source": [
    "**Part (e):** Define a test statistic and plot its distribution under $H_0$.\n",
    "\n",
    "**Part (f):** Determine the rejection region at a significance level of 0.05.  Depict it in the previous plot.\n",
    "\n",
    "**Part (g):** Also show the value of the test statistic in the previous plot. What is its p-value? Does the emission rate appear to be constant?\n",
    "\n",
    "*Solution: We perform (asymptotic) likelihood-ratio test. For convenience, define the notation $\\vec{\\lambda} = (\\lambda_0,...,\\lambda_{99})$, $\\Theta_0 = \\text{Span}(\\mathbb{1}) \\cap \\mathbb{R}^{100}_{>0}$. Also define $\\vec{y}=(y_0,...,y_{99})$. The statistic is defined as:\n",
    "\\begin{equation}\n",
    "T(\\vec{y}) = -2 \\ln \\left(\\frac{\\sup_{\\vec{\\lambda} \\in \\Theta_0} L(\\vec{\\lambda})}{\\sup_{\\vec{\\lambda} \\in \\mathbb{R}^{100} } L(\\vec{\\lambda})} \\right) = -2 \\sum_{i=0}^{99} y_i \\left( \\ln \\left( \\frac{\\sum_{i=0}^{99} y_i}{\\sum_{i=0}^{99} \\ell_i} \\right) - \\ln \\left( \\frac{y_i}{\\ell_i} \\right) \\right)\n",
    "\\end{equation}\n",
    "For large samples (like the one here), this statistic is approximately $\\chi^2_{99}$. distributed.*"
   ]
  },
  {
   "cell_type": "code",
   "execution_count": 27,
   "metadata": {
    "scrolled": false
   },
   "outputs": [],
   "source": [
    "df = 99"
   ]
  },
  {
   "cell_type": "markdown",
   "metadata": {},
   "source": [
    "*The statistic is evaluated below.*"
   ]
  },
  {
   "cell_type": "code",
   "execution_count": 28,
   "metadata": {},
   "outputs": [
    {
     "data": {
      "text/plain": [
       "104.39792133021297"
      ]
     },
     "execution_count": 28,
     "metadata": {},
     "output_type": "execute_result"
    }
   ],
   "source": [
    "T = -2 * (sum(data.counts) * np.log(sum(data.counts)/sum(data.seconds)) - sum(xlogy(data.counts, data.counts/data.seconds)))\n",
    "T"
   ]
  },
  {
   "cell_type": "code",
   "execution_count": 29,
   "metadata": {},
   "outputs": [
    {
     "data": {
      "text/plain": [
       "<matplotlib.legend.Legend at 0x20bf17daa88>"
      ]
     },
     "execution_count": 29,
     "metadata": {},
     "output_type": "execute_result"
    },
    {
     "data": {
      "image/png": "[encoded data removed]",
      "text/plain": [
       "<Figure size 432x288 with 1 Axes>"
      ]
     },
     "metadata": {
      "needs_background": "light"
     },
     "output_type": "display_data"
    }
   ],
   "source": [
    "x = np.linspace(chi2.ppf(0.0001, df), chi2.ppf(0.9999, df), 200)\n",
    "xtail = np.linspace(chi2.ppf(0.95, df), chi2.ppf(0.9999, df), 100)\n",
    "plt.plot(x, chi2.pdf(x, df))\n",
    "plt.vlines(chi2.ppf(0.95, df), 0, 0.03)\n",
    "plt.fill_between(xtail,chi2.pdf(xtail, df), alpha=.5)\n",
    "plt.scatter([T],[0])\n",
    "plt.xlabel(\"T\")\n",
    "plt.ylabel(\"density\")\n",
    "plt.legend([\"density\", \"critical value\", \"critical region\", \"statistic\"])"
   ]
  },
  {
   "cell_type": "markdown",
   "metadata": {},
   "source": [
    "*Since the statistic does not fall into the critical region, there is insufficient evidence to reject $H_0$, that is, the emission rate $\\lambda$ being constant.*"
   ]
  },
  {
   "cell_type": "markdown",
   "metadata": {},
   "source": [
    "# P-values"
   ]
  },
  {
   "cell_type": "markdown",
   "metadata": {},
   "source": [
    "Recall that a hypothesis test on hypothesis $H_0: \\theta \\in \\Theta$ and $H_1: \\theta \\in \\Theta^C$ is characterised by the critical region on space of samples $Y$, namely $R$. The test is of level $\\alpha$ if $\\sup_{\\theta \\in \\Theta} \\mathbb{E}_\\theta(\\mathbb{I}_R(Y)) \\leq \\alpha$ and the p-value is defined as $p = \\inf_\\alpha \\{\\mathbb{I}_R(Y) = 1\\}$. Read  the statement by the American Statistical Association about p-values (Wasserstein and Lazar: The ASA’s statement on p-values: context, process, and purpose) and respon  to the following scenarios."
   ]
  },
  {
   "cell_type": "markdown",
   "metadata": {},
   "source": [
    "**Part (a):** A friend looking at your notes from the first lecture saw that there’s a p-value of 0.0012 for the HIP study.   They ask you, does that mean there’s a 99.88% chance that offering a mammography decreases the risk of death from breast cancer? Explain to your friend exactly what this p-value means, including any assumptions that were made.\n",
    "\n",
    "*Solution: P-values here indicates how the data provided here is incompatible with the hypothesis that offering a mammography decreases the risk of death from breast cancer, provided that the model assumption on Page 5 of notes holds.*"
   ]
  },
  {
   "cell_type": "markdown",
   "metadata": {},
   "source": [
    "**Part (b):** Your colleague in education studies cares about what can improve the education outcomein early childhood.  He thinks the ideal planning should be to include as many variables aspossible and regress children’s educational outcome on the set. Then we select the variables that are shown to be statistically significant and inform the policy makers. Is this approach likely to produce the intended good policies?"
   ]
  },
  {
   "cell_type": "markdown",
   "metadata": {},
   "source": [
    "*Solution: This is known as the (Greedy) backward selection which is a naive approach to variable selections. Determining whether a variable is known to be statistically significant uses threshold values, which is generally not reliable since (1) p-value is not independent on dataset (so is subject to error) and (2) p-value is likely to be affected when variables are dropped. More advanced techniques like ridge regression and LASSO should be used.*"
   ]
  },
  {
   "cell_type": "markdown",
   "metadata": {},
   "source": [
    "**Part (c):** An economist collects data on many nation-wise variables and surprisingly finds that if she runs a regression between chocolate consumption and number of Nobel prize laureates, the coefficient is statistically significant. Should she conclude that there exists a relationship between Nobel prize and chocolate consumption?\n",
    "\n",
    "*Solution: Correlation does not imply causation! Rather, the economist should try to understand what common hidden features both chocolate consumption and number of Nobel prize laureates have with reasoning.*"
   ]
  },
  {
   "cell_type": "markdown",
   "metadata": {},
   "source": [
    "**Part (d)**: Your lab collects individual-level data on 50000 humans for 100 features, including IQ and chocolate consumption.  They find that their initial hypothesis about the relation betweenchocolate consumption and IQ has a p-value higher than 0.05.   However, they find thatthere are other variables in the data set that have p-value less than 0.05, namely, a subject’s family income and number of siblings. They therefore decide to not write about chocolate consumption, but rather, report these statistically significant results in their paper, and provide possible explanations. Is this sound scientific practice?\n",
    "\n",
    "*Solution: He should not! Firstly, this violates the rule of transparency. Secondly, the p-value is highly dependent with data, which makes his result less likely to be replicated.*"
   ]
  },
  {
   "cell_type": "markdown",
   "metadata": {},
   "source": [
    "**Part (e):** A neuroscience lab lab runs a randomized experiment on 100 mice by adding chocolate inhalf  of  the  mice’s  diet  and  another  food  of  the  equivalent  calories  in  another  half’s  diet. They find that the difference between the two groups’ time in solving a maze puzzle has p-value lower then 0.05.  Should they conclude that chocolate consumption leads to improved cognitive power in mice?\n",
    "\n",
    "*Solution: This seems convincing (even though conclusion solely based on threshold of p-value is suspicious), but I would appreciate if they can look at **why** chocolate consumption leads to improved cognitive power and perform more careful experiments. Also remember to be transparent in how they do the experiments and perform data analysis (e.g. what assumption), just to make sure they are not hacking the p-value.*"
   ]
  },
  {
   "cell_type": "markdown",
   "metadata": {},
   "source": [
    "**Part (f):** Should p-values be banned from scientific papers?  Provide at least one argument for and against this proposal.\n",
    "\n",
    "*Solution: For: just to make sure people are not abusing the p-value and not doing more careful analysis. Against: it still serves as an evidence on whether the data is incompatible with assumptions.*"
   ]
  }
 ],
 "metadata": {
  "kernelspec": {
   "display_name": "Python 3",
   "language": "python",
   "name": "python3"
  },
  "language_info": {
   "codemirror_mode": {
    "name": "ipython",
    "version": 3
   },
   "file_extension": ".py",
   "mimetype": "text/x-python",
   "name": "python",
   "nbconvert_exporter": "python",
   "pygments_lexer": "ipython3",
   "version": "3.7.6"
  }
 },
 "nbformat": 4,
 "nbformat_minor": 4
}
